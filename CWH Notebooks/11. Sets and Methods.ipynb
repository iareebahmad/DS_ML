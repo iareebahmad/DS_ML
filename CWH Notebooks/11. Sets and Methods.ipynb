{
 "cells": [
  {
   "cell_type": "markdown",
   "id": "0d104812-a12e-4abe-bed5-dea47b50ec69",
   "metadata": {},
   "source": [
    "*Unordered, Mutable and Unique. Set always stores values in sorted manner*"
   ]
  },
  {
   "cell_type": "code",
   "execution_count": 1,
   "id": "15c3eaa5-44e9-49e7-9ed2-773e572d851a",
   "metadata": {},
   "outputs": [
    {
     "data": {
      "text/plain": [
       "set()"
      ]
     },
     "execution_count": 1,
     "metadata": {},
     "output_type": "execute_result"
    }
   ],
   "source": [
    "# Empty Set\n",
    "empty_set = set()\n",
    "empty_set"
   ]
  },
  {
   "cell_type": "code",
   "execution_count": 2,
   "id": "0428c2e5-21fe-4dcd-b4c3-a2a7b771811a",
   "metadata": {},
   "outputs": [
    {
     "data": {
      "text/plain": [
       "{1, 2, 3, 4, 5}"
      ]
     },
     "execution_count": 2,
     "metadata": {},
     "output_type": "execute_result"
    }
   ],
   "source": [
    "# Number set\n",
    "nos = {1,2,3,4,5}\n",
    "nos"
   ]
  },
  {
   "cell_type": "code",
   "execution_count": 3,
   "id": "37b1371a-f402-4c4a-b0b9-52a66d2bef3e",
   "metadata": {},
   "outputs": [
    {
     "data": {
      "text/plain": [
       "{(5+4j), 1, 2, 7.123, 'YO'}"
      ]
     },
     "execution_count": 3,
     "metadata": {},
     "output_type": "execute_result"
    }
   ],
   "source": [
    "# Mixed Set\n",
    "mixed_set = {1,2,True,5+4j,7.123,\"YO\"}\n",
    "mixed_set"
   ]
  },
  {
   "cell_type": "code",
   "execution_count": 4,
   "id": "3d50f4ba-7d05-46d6-93c0-129dd9688e87",
   "metadata": {},
   "outputs": [
    {
     "data": {
      "text/plain": [
       "{1, 2, 3, 4, 5}"
      ]
     },
     "execution_count": 4,
     "metadata": {},
     "output_type": "execute_result"
    }
   ],
   "source": [
    "# Converting list into set -- be observant about uniqueness\n",
    "new_set1 = set([1,2,2,3,4,5,5,True,True])\n",
    "new_set1  #True is treated as the number 1 in Python, because True ==1 "
   ]
  },
  {
   "cell_type": "code",
   "execution_count": 5,
   "id": "e8124154-db1d-4604-a0be-e7c08ad6346d",
   "metadata": {},
   "outputs": [
    {
     "data": {
      "text/plain": [
       "{2, False, True, 'Yo'}"
      ]
     },
     "execution_count": 5,
     "metadata": {},
     "output_type": "execute_result"
    }
   ],
   "source": [
    "new_set2 = set([2,2,\"Yo\",\"Yo\",\"Yo\",False,False,2,2,True,True])\n",
    "new_set2"
   ]
  },
  {
   "cell_type": "code",
   "execution_count": 6,
   "id": "83c35b6a-af97-4187-8187-415aa68ca520",
   "metadata": {},
   "outputs": [
    {
     "data": {
      "text/plain": [
       "{1, 2, 3, 4}"
      ]
     },
     "execution_count": 6,
     "metadata": {},
     "output_type": "execute_result"
    }
   ],
   "source": [
    "final_set = {1,2,3,4}\n",
    "final_set"
   ]
  },
  {
   "cell_type": "code",
   "execution_count": 7,
   "id": "849bf8a8-f0ed-43a6-820b-ee084304405e",
   "metadata": {},
   "outputs": [
    {
     "data": {
      "text/plain": [
       "{1, 2, 3, 4, 22}"
      ]
     },
     "execution_count": 7,
     "metadata": {},
     "output_type": "execute_result"
    }
   ],
   "source": [
    "final_set.add(22) #Add one element\n",
    "final_set"
   ]
  },
  {
   "cell_type": "code",
   "execution_count": 8,
   "id": "401d9b16-2bf8-410f-a7c2-305619b248a4",
   "metadata": {},
   "outputs": [
    {
     "data": {
      "text/plain": [
       "{1, 2, 3, 4, 10, 20, 22, 30, 40, 50}"
      ]
     },
     "execution_count": 8,
     "metadata": {},
     "output_type": "execute_result"
    }
   ],
   "source": [
    "final_set.update([10,20,30,40,50]) # Add multiple elements\n",
    "final_set"
   ]
  },
  {
   "cell_type": "code",
   "execution_count": 9,
   "id": "44ad8e13-3daf-4122-a7e3-64dddaae62b6",
   "metadata": {},
   "outputs": [
    {
     "data": {
      "text/plain": [
       "{1, 2, 3, 4, 10, 20, 22, 30, 50}"
      ]
     },
     "execution_count": 9,
     "metadata": {},
     "output_type": "execute_result"
    }
   ],
   "source": [
    "final_set.remove(40)\n",
    "final_set"
   ]
  },
  {
   "cell_type": "code",
   "execution_count": 10,
   "id": "7c93ef86-aaa9-4647-9a0b-99fc5a8e2942",
   "metadata": {},
   "outputs": [],
   "source": [
    "#final_set.remove(40)  #raises error if not found\n",
    "final_set.discard(50) \n",
    "final_set.discard(50) # Doesnt raises error if not found"
   ]
  },
  {
   "cell_type": "code",
   "execution_count": 11,
   "id": "8ec127c2-8695-4995-b430-2ca9506be9b7",
   "metadata": {},
   "outputs": [
    {
     "data": {
      "text/plain": [
       "{2, 3, 4, 10, 20, 22, 30}"
      ]
     },
     "execution_count": 11,
     "metadata": {},
     "output_type": "execute_result"
    }
   ],
   "source": [
    "pop_elem = final_set.pop()  #returns and removes random elements\n",
    "final_set"
   ]
  },
  {
   "cell_type": "code",
   "execution_count": 12,
   "id": "2bac7601-35dd-4f60-a8fa-31a4909a90b6",
   "metadata": {},
   "outputs": [
    {
     "data": {
      "text/plain": [
       "{2, 3, 4, 10, 20, 22, 30}"
      ]
     },
     "execution_count": 12,
     "metadata": {},
     "output_type": "execute_result"
    }
   ],
   "source": [
    "doomsday = final_set.copy() #SHallow Copy\n",
    "doomsday"
   ]
  },
  {
   "cell_type": "code",
   "execution_count": 13,
   "id": "045cc290-3dfd-482a-85a0-f806283abf12",
   "metadata": {},
   "outputs": [],
   "source": [
    "final_set.clear()"
   ]
  },
  {
   "cell_type": "code",
   "execution_count": 14,
   "id": "012a5e4c-309b-4f62-a527-eeb808e81ae0",
   "metadata": {},
   "outputs": [
    {
     "data": {
      "text/plain": [
       "set()"
      ]
     },
     "execution_count": 14,
     "metadata": {},
     "output_type": "execute_result"
    }
   ],
   "source": [
    "final_set"
   ]
  },
  {
   "cell_type": "code",
   "execution_count": 15,
   "id": "e2ca2e1e-442f-4bf2-8360-ec18fbb2a190",
   "metadata": {},
   "outputs": [
    {
     "data": {
      "text/plain": [
       "{2, 3, 4, 10, 20, 22, 30}"
      ]
     },
     "execution_count": 15,
     "metadata": {},
     "output_type": "execute_result"
    }
   ],
   "source": [
    "doomsday"
   ]
  },
  {
   "cell_type": "markdown",
   "id": "acf91470-1369-490a-af71-cc42c625ff1d",
   "metadata": {},
   "source": [
    "**Set Operations**"
   ]
  },
  {
   "cell_type": "code",
   "execution_count": 16,
   "id": "6737429c-4686-435b-8929-ba016283b1d0",
   "metadata": {},
   "outputs": [
    {
     "name": "stdout",
     "output_type": "stream",
     "text": [
      "{1, 2, 3, 4, 5}\n",
      "{1, 2, 3, 4, 5}\n"
     ]
    }
   ],
   "source": [
    "#1. Union\n",
    "a = {1, 2, 3}\n",
    "b = {3, 4, 5}\n",
    "\n",
    "print(a | b)               # {1, 2, 3, 4, 5}\n",
    "print(a.union(b))          # {1, 2, 3, 4, 5}"
   ]
  },
  {
   "cell_type": "code",
   "execution_count": 17,
   "id": "f135a129-1275-4fb8-a987-91c8e650ccac",
   "metadata": {},
   "outputs": [
    {
     "name": "stdout",
     "output_type": "stream",
     "text": [
      "{3}\n",
      "{3}\n"
     ]
    }
   ],
   "source": [
    "#2. Intersection (& or .intersection())\n",
    "print(a & b)               # {3}\n",
    "print(a.intersection(b))   # {3}"
   ]
  },
  {
   "cell_type": "code",
   "execution_count": 18,
   "id": "44b67706-e835-47be-91d7-a68e2aba3021",
   "metadata": {},
   "outputs": [
    {
     "name": "stdout",
     "output_type": "stream",
     "text": [
      "{1, 2}\n",
      "{1, 2}\n"
     ]
    }
   ],
   "source": [
    "# 3. Difference (- or .difference())\n",
    "print(a - b)               # {1, 2}\n",
    "print(a.difference(b))     # {1, 2}"
   ]
  },
  {
   "cell_type": "code",
   "execution_count": 19,
   "id": "df83ca99-b4c9-4552-8236-e24325be8437",
   "metadata": {},
   "outputs": [
    {
     "name": "stdout",
     "output_type": "stream",
     "text": [
      "{1, 2, 4, 5}\n",
      "{1, 2, 4, 5}\n"
     ]
    }
   ],
   "source": [
    "#4. Symmetric Difference (^ or .symmetric_difference()) : Items in either set, but not in both.\n",
    "print(a ^ b)                       # {1, 2, 4, 5}\n",
    "print(a.symmetric_difference(b))  # {1, 2, 4, 5}"
   ]
  },
  {
   "cell_type": "code",
   "execution_count": 20,
   "id": "1539c8da-e89b-4eb4-8cfc-59cfd08a02e2",
   "metadata": {},
   "outputs": [
    {
     "name": "stdout",
     "output_type": "stream",
     "text": [
      "True\n",
      "True\n"
     ]
    }
   ],
   "source": [
    "#Subset and Superset\n",
    "a = {1, 2}\n",
    "b = {1, 2, 3, 4}\n",
    "\n",
    "print(a <= b)  # True  (a is a subset of b)\n",
    "print(b >= a)  # True  (b is a superset of a)"
   ]
  },
  {
   "cell_type": "code",
   "execution_count": 21,
   "id": "bbf2be49-4abd-46ae-b1bd-7aee4f17ad19",
   "metadata": {},
   "outputs": [
    {
     "name": "stdout",
     "output_type": "stream",
     "text": [
      "True\n"
     ]
    }
   ],
   "source": [
    "#6. Disjoint Sets (.isdisjoint()): Check if two sets have no elements in common\n",
    "x = {1, 2}\n",
    "y = {3, 4}\n",
    "\n",
    "print(x.isdisjoint(y))  # True"
   ]
  }
 ],
 "metadata": {
  "kernelspec": {
   "display_name": "Python 3 (ipykernel)",
   "language": "python",
   "name": "python3"
  },
  "language_info": {
   "codemirror_mode": {
    "name": "ipython",
    "version": 3
   },
   "file_extension": ".py",
   "mimetype": "text/x-python",
   "name": "python",
   "nbconvert_exporter": "python",
   "pygments_lexer": "ipython3",
   "version": "3.12.7"
  }
 },
 "nbformat": 4,
 "nbformat_minor": 5
}
