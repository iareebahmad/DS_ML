{
 "cells": [
  {
   "cell_type": "code",
   "execution_count": 9,
   "id": "6ccb7ede-8a3c-4775-9ca2-78eb289d6df6",
   "metadata": {},
   "outputs": [
    {
     "name": "stdout",
     "output_type": "stream",
     "text": [
      "Internal Server Error\n"
     ]
    }
   ],
   "source": [
    "# HTTP Server Error Code\n",
    "def http_response_code(code):\n",
    "    match code:\n",
    "        case 500 : print(\"Internal Server Error\")\n",
    "        case 404 : print(\"Page Not Found\")\n",
    "        case 400 : print(\"Bad Request\")\n",
    "        case _ : print(\"Unknown Error\")\n",
    "http_response_code(500)"
   ]
  },
  {
   "cell_type": "code",
   "execution_count": 6,
   "id": "53dba1b3-9fe0-4efb-bccc-4a03b4259eac",
   "metadata": {},
   "outputs": [
    {
     "name": "stdout",
     "output_type": "stream",
     "text": [
      "Categorical/Text column\n"
     ]
    }
   ],
   "source": [
    "#1. Match column data type (from pandas)\n",
    "def describe_column(dtype):\n",
    "    match dtype:\n",
    "        case 'int64':\n",
    "            return \"Integer column\"\n",
    "        case 'float64':\n",
    "            return \"Floating point column\"\n",
    "        case 'object':\n",
    "            return \"Categorical/Text column\"\n",
    "        case _:\n",
    "            return \"Other data type\"\n",
    "\n",
    "print(describe_column('object'))  # Output: Categorical/Text column\n"
   ]
  },
  {
   "cell_type": "code",
   "execution_count": 19,
   "id": "1ccdeda0-5575-49b8-8673-ffd73f379a9f",
   "metadata": {},
   "outputs": [
    {
     "name": "stdout",
     "output_type": "stream",
     "text": [
      "Classification Model\n"
     ]
    }
   ],
   "source": [
    "#2. Handle ML model names\n",
    "def handle_ml_model(model_name):\n",
    "    match model_name.lower():\n",
    "        case \"kmeans\" : \n",
    "            return \"Clustering Model\"\n",
    "        case \"linear regression\" :\n",
    "            return \"Regressin Model\"\n",
    "        case \"decision tree\":\n",
    "            return \"Classification Model\"\n",
    "        case _:\n",
    "            return \"Unknown Model\"\n",
    "print(handle_ml_model(\"Decision tree\"))"
   ]
  },
  {
   "cell_type": "code",
   "execution_count": 25,
   "id": "42a5e6f7-4453-4a72-9d05-86def86871d2",
   "metadata": {},
   "outputs": [
    {
     "name": "stdout",
     "output_type": "stream",
     "text": [
      "Two Columns\n",
      "Normal Count\n",
      "Out of Scope\n"
     ]
    }
   ],
   "source": [
    "#3. Analysing number of columns\n",
    "def no_of_cols(col_count):\n",
    "    match col_count:\n",
    "        case 0 : \n",
    "            return \"Empty Dataset\"\n",
    "        case 1:\n",
    "            return \"Only Index Col\"\n",
    "        case 2:\n",
    "            return \"Two Columns\"\n",
    "        case _ if col_count>3 and col_count<10:\n",
    "            return \"Normal Count\"\n",
    "        case _:\n",
    "            return \"Out of Scope\"\n",
    "print(no_of_cols(2))\n",
    "print(no_of_cols(5))\n",
    "print(no_of_cols(100))"
   ]
  },
  {
   "cell_type": "code",
   "execution_count": 32,
   "id": "66dd346e-9bee-43c6-a520-c021b6051f29",
   "metadata": {},
   "outputs": [
    {
     "data": {
      "text/plain": [
       "'Comma-Separated Value'"
      ]
     },
     "execution_count": 32,
     "metadata": {},
     "output_type": "execute_result"
    }
   ],
   "source": [
    "def file_type(filename):\n",
    "    match filename.split(\".\")[-1]:\n",
    "        case \"csv\" : \n",
    "            return\"Comma-Separated Value\"\n",
    "        case \"pdf\" :\n",
    "            return \"PDF File\"\n",
    "        case \"txt\" :\n",
    "            return \"Text File\"\n",
    "        case _:\n",
    "            return \"Unknown File Type\"\n",
    "            \n",
    "filename=\"diwali_sales.csv\"\n",
    "file_type(filename)"
   ]
  },
  {
   "cell_type": "code",
   "execution_count": 35,
   "id": "b21ea398-be4f-4587-9241-956fdfcc58e4",
   "metadata": {},
   "outputs": [
    {
     "data": {
      "text/plain": [
       "'On X-Axis at 2'"
      ]
     },
     "execution_count": 35,
     "metadata": {},
     "output_type": "execute_result"
    }
   ],
   "source": [
    "#4. Matching Datastructures\n",
    "point = (2,0)\n",
    "def locate_point(point):\n",
    "    match point:\n",
    "        case (0,0) :\n",
    "            return \"Origin\"\n",
    "        case (x,0) :\n",
    "            return \"On X-Axis at {}\".format(x)\n",
    "        case (0,y):\n",
    "            return \"On Y-Axis at {}\".format(y)\n",
    "        case _:\n",
    "            return \"In the open plane\"\n",
    "locate_point(point)\n",
    "        "
   ]
  }
 ],
 "metadata": {
  "kernelspec": {
   "display_name": "Python 3 (ipykernel)",
   "language": "python",
   "name": "python3"
  },
  "language_info": {
   "codemirror_mode": {
    "name": "ipython",
    "version": 3
   },
   "file_extension": ".py",
   "mimetype": "text/x-python",
   "name": "python",
   "nbconvert_exporter": "python",
   "pygments_lexer": "ipython3",
   "version": "3.12.7"
  }
 },
 "nbformat": 4,
 "nbformat_minor": 5
}
