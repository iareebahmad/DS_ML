{
 "cells": [
  {
   "cell_type": "markdown",
   "id": "303a3683-5d5d-42d4-b17a-6a1a172f32e8",
   "metadata": {},
   "source": [
    "**For Loop**"
   ]
  },
  {
   "cell_type": "code",
   "execution_count": 3,
   "id": "87171c4c-9601-4733-8685-171273a57cd1",
   "metadata": {},
   "outputs": [
    {
     "name": "stdout",
     "output_type": "stream",
     "text": [
      "apple\n",
      "mango\n",
      "banana\n"
     ]
    }
   ],
   "source": [
    "fruits = [\"apple\",\"mango\",\"banana\"]\n",
    "for fruit in fruits:\n",
    "    print(fruit)"
   ]
  },
  {
   "cell_type": "markdown",
   "id": "a32bcd8e-76d8-40b3-a4ad-f5335dc7e470",
   "metadata": {},
   "source": [
    "**While Loop**\n",
    "#Runs as long as a condition is True ."
   ]
  },
  {
   "cell_type": "code",
   "execution_count": 9,
   "id": "2e6bed71-3b96-4b56-9d4c-53f8831315d6",
   "metadata": {},
   "outputs": [
    {
     "name": "stdout",
     "output_type": "stream",
     "text": [
      "5\n",
      "7\n",
      "9\n"
     ]
    }
   ],
   "source": [
    "# range(start,end,jump)\n",
    "for i in range(5,10,2):\n",
    "    print(i)"
   ]
  },
  {
   "cell_type": "code",
   "execution_count": 25,
   "id": "78e4a0d2-b318-42e7-89ab-57ac3bff1de3",
   "metadata": {},
   "outputs": [
    {
     "name": "stdout",
     "output_type": "stream",
     "text": [
      "10\n",
      "9\n",
      "8\n",
      "7\n",
      "6\n",
      "5\n",
      "4\n",
      "3\n",
      "2\n"
     ]
    }
   ],
   "source": [
    "for i in range(10,1,-1):\n",
    "    print(i)"
   ]
  },
  {
   "cell_type": "code",
   "execution_count": 22,
   "id": "5d871994-2f03-457c-8d76-9a25d74920ad",
   "metadata": {
    "scrolled": true
   },
   "outputs": [
    {
     "name": "stdout",
     "output_type": "stream",
     "text": [
      "Hehe!\n",
      "Hehe!\n",
      "Hehe!\n",
      "Hehe!\n",
      "Hehe!\n",
      "Hehe!\n"
     ]
    }
   ],
   "source": [
    "count = 0\n",
    "while(count<=5):\n",
    "    print(\"Hehe!\")\n",
    "    count+=1"
   ]
  },
  {
   "cell_type": "markdown",
   "id": "2178b624-0e79-4a39-a378-5818bf779f15",
   "metadata": {},
   "source": [
    "**Loop Control Statements**"
   ]
  },
  {
   "cell_type": "markdown",
   "id": "cce1ce4f-e112-49b8-8a22-9275bae77b27",
   "metadata": {},
   "source": [
    "- break → Exits the loop."
   ]
  },
  {
   "cell_type": "code",
   "execution_count": 14,
   "id": "82fdfd22-a3ac-4410-bb27-e63fe6b2eeba",
   "metadata": {},
   "outputs": [
    {
     "name": "stdout",
     "output_type": "stream",
     "text": [
      "0\n",
      "1\n",
      "2\n"
     ]
    }
   ],
   "source": [
    "for i in range(5):\n",
    "    if i == 3:\n",
    "        break # Stops the loop at 3\n",
    "    print(i)"
   ]
  },
  {
   "cell_type": "markdown",
   "id": "87f19c13-8bff-4a6e-aa93-7c1118efb6b6",
   "metadata": {},
   "source": [
    "- continue → Skips to the next iteration. No action performed for this iteration"
   ]
  },
  {
   "cell_type": "code",
   "execution_count": 16,
   "id": "021829f5-bed4-46b6-a385-8433e5e01e76",
   "metadata": {},
   "outputs": [
    {
     "name": "stdout",
     "output_type": "stream",
     "text": [
      "0\n",
      "1\n",
      "2\n",
      "4\n"
     ]
    }
   ],
   "source": [
    "for i in range(5):\n",
    "    if i ==3:\n",
    "        continue\n",
    "    print(i)"
   ]
  },
  {
   "cell_type": "code",
   "execution_count": 26,
   "id": "dd721ad8-7510-49d1-ae3e-32060a516d91",
   "metadata": {},
   "outputs": [
    {
     "name": "stdout",
     "output_type": "stream",
     "text": [
      "apple\n",
      "cherry\n",
      "onion\n"
     ]
    }
   ],
   "source": [
    "my_list = [\"apple\",\"mango\",\"cherry\",\"onion\"]\n",
    "for item in my_list:\n",
    "    if item == \"mango\":\n",
    "        continue\n",
    "        print(\"Mango Spotted\")   # This won't be executed\n",
    "    print(item)"
   ]
  },
  {
   "cell_type": "markdown",
   "id": "e234e796-2299-4dae-b93b-7814793d21bb",
   "metadata": {},
   "source": [
    "- pass → Does nothing (used as a placeholder)."
   ]
  },
  {
   "cell_type": "code",
   "execution_count": 17,
   "id": "7be020f2-06f1-4406-9638-6021c131df5b",
   "metadata": {},
   "outputs": [
    {
     "name": "stdout",
     "output_type": "stream",
     "text": [
      "0\n",
      "1\n",
      "2\n",
      "3\n",
      "4\n"
     ]
    }
   ],
   "source": [
    "for i in range(5):\n",
    "    if i==3:\n",
    "        pass\n",
    "    print(i)"
   ]
  },
  {
   "cell_type": "code",
   "execution_count": null,
   "id": "d74e8758-df7e-48c1-abee-ac89e0ee10b3",
   "metadata": {},
   "outputs": [],
   "source": []
  }
 ],
 "metadata": {
  "kernelspec": {
   "display_name": "Python 3 (ipykernel)",
   "language": "python",
   "name": "python3"
  },
  "language_info": {
   "codemirror_mode": {
    "name": "ipython",
    "version": 3
   },
   "file_extension": ".py",
   "mimetype": "text/x-python",
   "name": "python",
   "nbconvert_exporter": "python",
   "pygments_lexer": "ipython3",
   "version": "3.12.7"
  }
 },
 "nbformat": 4,
 "nbformat_minor": 5
}
