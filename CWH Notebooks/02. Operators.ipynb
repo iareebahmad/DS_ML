{
 "cells": [
  {
   "cell_type": "code",
   "execution_count": 7,
   "id": "8274af2e-0d19-4215-97dd-a7c21686487d",
   "metadata": {},
   "outputs": [],
   "source": [
    "# 1. Arithmetic Operators\n",
    "# Operator Precedence PEMDAS\n",
    "def arithmetic_operators(a, b):\n",
    "    print(\"Arithmetic Operators:\")\n",
    "    print(f\"{a} + {b} = {a + b}\")        # Addition\n",
    "    print(f\"{a} - {b} = {a - b}\")        # Subtraction\n",
    "    print(f\"{a} * {b} = {a * b}\")        # Multiplication\n",
    "    print(f\"{a} / {b} = {a / b}\")        # Division (float)\n",
    "    print(f\"{a} // {b} = {a // b}\")      # Floor Division (integer)\n",
    "    print(f\"{a} % {b} = {a % b}\")        # Modulus (remainder)\n",
    "    print(f\"{a} ** {b} = {a ** b}\")      # Exponentiation"
   ]
  },
  {
   "cell_type": "code",
   "execution_count": 2,
   "id": "0737c43a-db85-43ba-9333-d4b564ee5aa6",
   "metadata": {},
   "outputs": [],
   "source": [
    "# 2. Comparison Operators\n",
    "def comparison_operators(x, y):\n",
    "    print(\"\\nComparison Operators:\")\n",
    "    print(f\"{x} == {y}: {x == y}\")       # Equal to\n",
    "    print(f\"{x} != {y}: {x != y}\")       # Not equal to\n",
    "    print(f\"{x} > {y}: {x > y}\")         # Greater than\n",
    "    print(f\"{x} < {y}: {x < y}\")         # Less than\n",
    "    print(f\"{x} >= {y}: {x >= y}\")       # Greater than or equal to\n",
    "    print(f\"{x} <= {y}: {x <= y}\")       # Less than or equal to"
   ]
  },
  {
   "cell_type": "code",
   "execution_count": 3,
   "id": "9f094b10-6800-4013-88aa-1d56069c3c22",
   "metadata": {},
   "outputs": [],
   "source": [
    "def logical_operators(p, q):\n",
    "    print(\"\\nLogical Operators:\")\n",
    "    print(f\"{p} and {q}: {p and q}\")     # Logical AND\n",
    "    print(f\"{p} or {q}: {p or q}\")       # Logical OR\n",
    "    print(f\"not {p}: {not p}\")           # Logical NOT"
   ]
  },
  {
   "cell_type": "code",
   "execution_count": 4,
   "id": "889ee057-9053-4ce1-8e34-60d5ea49818b",
   "metadata": {},
   "outputs": [],
   "source": [
    "# 4. Assignment Operators\n",
    "def assignment_operators(value):\n",
    "    print(\"\\nAssignment Operators:\")\n",
    "    x = value\n",
    "    print(f\"Initial value: x = {x}\")\n",
    "    x += 5\n",
    "    print(f\"x += 5 -> {x}\")\n",
    "    x -= 2\n",
    "    print(f\"x -= 2 -> {x}\")\n",
    "    x *= 3\n",
    "    print(f\"x *= 3 -> {x}\")\n",
    "    x /= 2\n",
    "    print(f\"x /= 2 -> {x}\")\n",
    "    x //= 2\n",
    "    print(f\"x //= 2 -> {x}\")\n",
    "    x %= 3\n",
    "    print(f\"x %= 3 -> {x}\")\n",
    "    x **= 2\n",
    "    print(f\"x **= 2 -> {x}\")\n"
   ]
  },
  {
   "cell_type": "code",
   "execution_count": 5,
   "id": "9d7f89da-5bd8-4e61-a060-e23491b1291d",
   "metadata": {},
   "outputs": [],
   "source": [
    "# 5. Bitwise Operators\n",
    "def bitwise_operators(m, n):\n",
    "    print(\"\\nBitwise Operators:\")\n",
    "    print(f\"{m} & {n} = {m & n}\")        # Bitwise AND\n",
    "    print(f\"{m} | {n} = {m | n}\")        # Bitwise OR\n",
    "    print(f\"{m} ^ {n} = {m ^ n}\")        # Bitwise XOR\n",
    "    print(f\"~{m} = {~m}\")                # Bitwise NOT (1's complement)\n",
    "    print(f\"{m} << 1 = {m << 1}\")        # Left shift\n",
    "    print(f\"{m} >> 1 = {m >> 1}\")        # Right shift"
   ]
  },
  {
   "cell_type": "code",
   "execution_count": 6,
   "id": "55df4a62-1c50-49be-bbc6-0214ef80fe53",
   "metadata": {},
   "outputs": [
    {
     "name": "stdout",
     "output_type": "stream",
     "text": [
      "Arithmetic Operators:\n",
      "10 + 3 = 13\n",
      "10 - 3 = 7\n",
      "10 * 3 = 30\n",
      "10 / 3 = 3.3333333333333335\n",
      "10 // 3 = 3\n",
      "10 % 3 = 1\n",
      "10 ** 3 = 1000\n",
      "\n",
      "Comparison Operators:\n",
      "10 == 3: False\n",
      "10 != 3: True\n",
      "10 > 3: True\n",
      "10 < 3: False\n",
      "10 >= 3: True\n",
      "10 <= 3: False\n",
      "\n",
      "Logical Operators:\n",
      "True and False: False\n",
      "True or False: True\n",
      "not True: False\n",
      "\n",
      "Assignment Operators:\n",
      "Initial value: x = 10\n",
      "x += 5 -> 15\n",
      "x -= 2 -> 13\n",
      "x *= 3 -> 39\n",
      "x /= 2 -> 19.5\n",
      "x //= 2 -> 9.0\n",
      "x %= 3 -> 0.0\n",
      "x **= 2 -> 0.0\n",
      "\n",
      "Bitwise Operators:\n",
      "5 & 3 = 1\n",
      "5 | 3 = 7\n",
      "5 ^ 3 = 6\n",
      "~5 = -6\n",
      "5 << 1 = 10\n",
      "5 >> 1 = 2\n"
     ]
    }
   ],
   "source": [
    "# Sample execution\n",
    "if __name__ == \"__main__\":\n",
    "    arithmetic_operators(10, 3)\n",
    "    comparison_operators(10, 3)\n",
    "    logical_operators(True, False)\n",
    "    assignment_operators(10)\n",
    "    bitwise_operators(5, 3)"
   ]
  },
  {
   "cell_type": "code",
   "execution_count": null,
   "id": "811c82e3-b468-4d4d-ba11-3225259557b9",
   "metadata": {},
   "outputs": [],
   "source": []
  }
 ],
 "metadata": {
  "kernelspec": {
   "display_name": "Python 3 (ipykernel)",
   "language": "python",
   "name": "python3"
  },
  "language_info": {
   "codemirror_mode": {
    "name": "ipython",
    "version": 3
   },
   "file_extension": ".py",
   "mimetype": "text/x-python",
   "name": "python",
   "nbconvert_exporter": "python",
   "pygments_lexer": "ipython3",
   "version": "3.12.7"
  }
 },
 "nbformat": 4,
 "nbformat_minor": 5
}
