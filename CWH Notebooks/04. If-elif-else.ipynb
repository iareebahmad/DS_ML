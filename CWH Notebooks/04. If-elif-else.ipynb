{
 "cells": [
  {
   "cell_type": "code",
   "execution_count": 1,
   "id": "0e128517-d91c-4451-a468-ddd47c6bf447",
   "metadata": {},
   "outputs": [
    {
     "name": "stdout",
     "output_type": "stream",
     "text": [
      "Value is null\n"
     ]
    }
   ],
   "source": [
    "#1. Check Missing Values\n",
    "value = None\n",
    "if value is None:\n",
    "    print(\"Value is null\")\n",
    "else:\n",
    "    print(\"Value is not null\")"
   ]
  },
  {
   "cell_type": "code",
   "execution_count": 5,
   "id": "da064fbc-f975-4af9-a42d-c77bb2634c78",
   "metadata": {},
   "outputs": [
    {
     "name": "stdout",
     "output_type": "stream",
     "text": [
      "Adult\n"
     ]
    }
   ],
   "source": [
    "#2. Categorize Age Groups\n",
    "age = 60\n",
    "if age<=11:\n",
    "    print(\"Kid\")\n",
    "elif age>=12 and age<=18:\n",
    "    print(\"Teenager\")\n",
    "elif age>=19 and age<=60:\n",
    "    print(\"Adult\")\n",
    "else:\n",
    "    print(\"Senior Citizen\")"
   ]
  },
  {
   "cell_type": "code",
   "execution_count": 16,
   "id": "59f8846e-74a2-4784-be27-7c2d0d24aba7",
   "metadata": {},
   "outputs": [
    {
     "name": "stdout",
     "output_type": "stream",
     "text": [
      "List\n"
     ]
    }
   ],
   "source": [
    "#3. Data Type Checker isinstance(iterable,data_type)\n",
    "        #isinstance(iterable,datatype) retrurns Boolean only\n",
    "data1 = [10,20,30]\n",
    "data2 = {1:\"Rahul\",2:\"Ramesh\",3:\"Suresh\"}\n",
    "if isinstance(data1,list):\n",
    "    print(\"List\")\n",
    "elif isinstance(data1,dictionary):\n",
    "    print(\"Dictionary\")\n",
    "else:\n",
    "    print(\"Idk bro\")"
   ]
  },
  {
   "cell_type": "code",
   "execution_count": 9,
   "id": "16d2bd97-d10d-44d6-a724-c53ee3daabac",
   "metadata": {},
   "outputs": [
    {
     "name": "stdout",
     "output_type": "stream",
     "text": [
      "Dictionary\n"
     ]
    }
   ],
   "source": [
    "if isinstance(data2,list):\n",
    "    print(\"List\")\n",
    "elif isinstance(data2,dict):\n",
    "    print(\"Dictionary\")\n",
    "else:\n",
    "    print(\"Idk bro\")"
   ]
  },
  {
   "cell_type": "code",
   "execution_count": 15,
   "id": "da82713b-e306-4d8e-bd4e-23c149a6eaf4",
   "metadata": {},
   "outputs": [
    {
     "name": "stdout",
     "output_type": "stream",
     "text": [
      "False\n",
      "False\n",
      "True\n"
     ]
    }
   ],
   "source": [
    "my_list = [10,20,30,40,50]\n",
    "print(isinstance(my_list,dict))\n",
    "print(isinstance(my_list,str))\n",
    "print(isinstance(my_list,list))"
   ]
  },
  {
   "cell_type": "code",
   "execution_count": 25,
   "id": "d35e2ad6-4639-4e7c-91ca-551a1d0f8971",
   "metadata": {},
   "outputs": [
    {
     "name": "stdout",
     "output_type": "stream",
     "text": [
      "Outlier detected\n"
     ]
    }
   ],
   "source": [
    "# 4. Check for Outliers\n",
    "value = 4502         # The number we're checking\n",
    "mean = 50            # The average of all numbers\n",
    "threshold = 3        # How far is \"too far\"? This is our limit.\n",
    "std_dev = 20         # Standard deviation = how spread out the data is\n",
    "\n",
    "if abs(value - mean) > threshold * std_dev:\n",
    "    print(\"Outlier detected\")\n",
    "else:\n",
    "    print(\"Value is normal\")\n"
   ]
  },
  {
   "cell_type": "code",
   "execution_count": 33,
   "id": "df8d5a02-290f-480e-8845-a4297767419e",
   "metadata": {},
   "outputs": [
    {
     "name": "stdout",
     "output_type": "stream",
     "text": [
      "Empty Set\n",
      "Not Empty\n"
     ]
    }
   ],
   "source": [
    "#5. Detect Empty Dataset\n",
    "data_set = []   #By default if the data_set is empty its treated as False\n",
    "data_set_value = [1,2,3,4,5,6,7]\n",
    "if not data_set:      #If not false(true):\n",
    "    print(\"Empty Set\")\n",
    "else:\n",
    "    print(\"Not Empty\")\n",
    "    \n",
    "if not data_set_value:\n",
    "    print(\"Empty Set\")\n",
    "else:\n",
    "    print(\"Not Empty\")"
   ]
  },
  {
   "cell_type": "code",
   "execution_count": 34,
   "id": "a12d8da5-06d8-4f4d-a2e4-8d465b4e1eee",
   "metadata": {},
   "outputs": [
    {
     "name": "stdout",
     "output_type": "stream",
     "text": [
      "Good Model\n"
     ]
    }
   ],
   "source": [
    "#6. Model Evaluation Based on Accuracy\n",
    "accuracy = 0.82\n",
    "\n",
    "if accuracy >= 0.9:\n",
    "    print(\"Excellent Model\")\n",
    "elif accuracy >= 0.75:\n",
    "    print(\"Good Model\")\n",
    "elif accuracy >= 0.6:\n",
    "    print(\"Average Model\")\n",
    "else:\n",
    "    print(\"Poor Model\")\n"
   ]
  },
  {
   "cell_type": "code",
   "execution_count": 40,
   "id": "86f413aa-1dae-4694-844f-054c915fabc4",
   "metadata": {},
   "outputs": [
    {
     "name": "stdout",
     "output_type": "stream",
     "text": [
      "Value is NaN\n"
     ]
    }
   ],
   "source": [
    "#7. Check for NaN (NumPy)\n",
    "import numpy as np\n",
    "\n",
    "x = np.nan\n",
    "#NaN is not equal to anything, not even to itself!\n",
    "\n",
    "if np.isnan(x):\n",
    "    print(\"Value is NaN\")\n",
    "else:\n",
    "    print(\"Value is not NaN\")"
   ]
  },
  {
   "cell_type": "code",
   "execution_count": 36,
   "id": "43254466-5f80-4c4b-8e99-1ea36674c333",
   "metadata": {},
   "outputs": [
    {
     "name": "stdout",
     "output_type": "stream",
     "text": [
      "Negative Sentiment\n"
     ]
    }
   ],
   "source": [
    "#8. Classify Sentiment Based on Score\n",
    "score = -0.2\n",
    "\n",
    "if score > 0:\n",
    "    print(\"Positive Sentiment\")\n",
    "elif score < 0:\n",
    "    print(\"Negative Sentiment\")\n",
    "else:\n",
    "    print(\"Neutral Sentiment\")\n"
   ]
  },
  {
   "cell_type": "code",
   "execution_count": 38,
   "id": "f5ced340-92d9-4181-aae1-73b9295ab010",
   "metadata": {},
   "outputs": [
    {
     "name": "stdout",
     "output_type": "stream",
     "text": [
      "    name  age\n",
      "0  Alice   25\n",
      "Salary column missing\n"
     ]
    }
   ],
   "source": [
    "#9. Check Column Presence in DataFrame\n",
    "import pandas as pd\n",
    "\n",
    "df = pd.DataFrame({'name': ['Alice'], 'age': [25]})\n",
    "print(df)\n",
    "\n",
    "if 'salary' in df.columns:\n",
    "    print(\"Salary column exists\")\n",
    "else:\n",
    "    print(\"Salary column missing\")"
   ]
  },
  {
   "cell_type": "code",
   "execution_count": 39,
   "id": "f14fd584-ca5e-44b3-85ed-47011e5f0d25",
   "metadata": {},
   "outputs": [
    {
     "name": "stdout",
     "output_type": "stream",
     "text": [
      "Leap year\n"
     ]
    }
   ],
   "source": [
    "#10. Determine Leap Year\n",
    "year = 2024\n",
    "\n",
    "if (year % 4 == 0 and year % 100 != 0) or (year % 400 == 0):\n",
    "    print(\"Leap year\")\n",
    "else:\n",
    "    print(\"Not a leap year\")\n"
   ]
  },
  {
   "cell_type": "code",
   "execution_count": null,
   "id": "c2ba008f-5323-45b7-8a82-230eb9f2fa5d",
   "metadata": {},
   "outputs": [],
   "source": []
  }
 ],
 "metadata": {
  "kernelspec": {
   "display_name": "Python 3 (ipykernel)",
   "language": "python",
   "name": "python3"
  },
  "language_info": {
   "codemirror_mode": {
    "name": "ipython",
    "version": 3
   },
   "file_extension": ".py",
   "mimetype": "text/x-python",
   "name": "python",
   "nbconvert_exporter": "python",
   "pygments_lexer": "ipython3",
   "version": "3.12.7"
  }
 },
 "nbformat": 4,
 "nbformat_minor": 5
}
