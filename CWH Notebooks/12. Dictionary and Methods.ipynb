{
 "cells": [
  {
   "cell_type": "markdown",
   "id": "46a395a4-66f2-4d93-8f21-54bb89027a32",
   "metadata": {},
   "source": [
    "**Python dictionaries are key indexed. ex: nameOfDict[key] will work**"
   ]
  },
  {
   "cell_type": "code",
   "execution_count": 6,
   "id": "bfb3a50d-9709-4084-9074-b3acda964e16",
   "metadata": {},
   "outputs": [
    {
     "data": {
      "text/plain": [
       "{1: 'Mohammad Areeb Ahmad', 2: 'Ricardo Kaka', 3: 'Lionel Messi', 4: 'Ronaldo'}"
      ]
     },
     "execution_count": 6,
     "metadata": {},
     "output_type": "execute_result"
    }
   ],
   "source": [
    "mydict = {\n",
    "    1: \"Mohammad Areeb Ahmad\",\n",
    "    2: \"Ricardo Kaka\",\n",
    "    3: \"Lionel Messi\",\n",
    "    4: \"Ronaldo\"\n",
    "}\n",
    "mydict"
   ]
  },
  {
   "cell_type": "code",
   "execution_count": 7,
   "id": "b743412c-acc3-42a0-8465-e52db0da2c88",
   "metadata": {},
   "outputs": [
    {
     "name": "stdout",
     "output_type": "stream",
     "text": [
      "True\n"
     ]
    }
   ],
   "source": [
    "# Check if dictionary is empty\n",
    "if not mydict:\n",
    "    print(\"Empty\")\n",
    "else:\n",
    "    print(\"True\")"
   ]
  },
  {
   "cell_type": "code",
   "execution_count": 8,
   "id": "af7262f9-932e-405b-9c05-7dce72f6f1df",
   "metadata": {},
   "outputs": [],
   "source": [
    "record = {\n",
    "    'name': 'Alice',\n",
    "    'age': 30,\n",
    "    'profession': 'Data Scientist',\n",
    "    'skills': ['Python', 'SQL', 'Pandas']\n",
    "}"
   ]
  },
  {
   "cell_type": "code",
   "execution_count": 9,
   "id": "1b5917f2-5eca-4856-bf3e-90d9b3f5ace4",
   "metadata": {},
   "outputs": [
    {
     "name": "stdout",
     "output_type": "stream",
     "text": [
      "30\n",
      "N/A\n",
      "None\n"
     ]
    }
   ],
   "source": [
    "# 1. get() : Safely access a key — no error if key doesn’t exist.\n",
    "print(record.get('age'))              # 30\n",
    "print(record.get('gender', 'N/A'))    # 'N/A'\n",
    "print(record.get('degree'))           # None"
   ]
  },
  {
   "cell_type": "code",
   "execution_count": 10,
   "id": "0f20ccb1-a2f3-4e22-a758-f74116571813",
   "metadata": {},
   "outputs": [
    {
     "name": "stdout",
     "output_type": "stream",
     "text": [
      "name : Alice\n",
      "age : 30\n",
      "profession : Data Scientist\n",
      "skills : ['Python', 'SQL', 'Pandas']\n"
     ]
    }
   ],
   "source": [
    "#2. items() : Loop over keys and values.\n",
    "for key, value in record.items():\n",
    "    print(f\"{key} : {value}\")"
   ]
  },
  {
   "cell_type": "code",
   "execution_count": 11,
   "id": "55432bb7-f0ac-4393-a2d8-2e0ef950fd37",
   "metadata": {},
   "outputs": [
    {
     "name": "stdout",
     "output_type": "stream",
     "text": [
      "dict_keys(['name', 'age', 'profession', 'skills'])\n",
      "['name', 'age', 'profession', 'skills']\n"
     ]
    }
   ],
   "source": [
    "#3. keys()\n",
    "print(record.keys())\n",
    "print(list(record.keys()))"
   ]
  },
  {
   "cell_type": "code",
   "execution_count": 12,
   "id": "e86ab8d7-5aed-4d16-b475-c0ed2780d91f",
   "metadata": {},
   "outputs": [
    {
     "name": "stdout",
     "output_type": "stream",
     "text": [
      "dict_values(['Alice', 30, 'Data Scientist', ['Python', 'SQL', 'Pandas']])\n",
      "['Alice', 30, 'Data Scientist', ['Python', 'SQL', 'Pandas']]\n"
     ]
    }
   ],
   "source": [
    "#4. values()\n",
    "print(record.values())\n",
    "print(list(record.values()))"
   ]
  },
  {
   "cell_type": "code",
   "execution_count": 13,
   "id": "7154a7f2-fe80-4f5d-9edf-08b34b3e3401",
   "metadata": {},
   "outputs": [
    {
     "data": {
      "text/plain": [
       "{'name': 'Alice',\n",
       " 'age': 30,\n",
       " 'profession': 'Data Scientist',\n",
       " 'skills': ['Python', 'SQL', 'Pandas'],\n",
       " 'City': 'Delhi'}"
      ]
     },
     "execution_count": 13,
     "metadata": {},
     "output_type": "execute_result"
    }
   ],
   "source": [
    "#7. setdefault() : Set a default if key doesn’t exist.\n",
    "record.setdefault(\"City\",\"Delhi\")\n",
    "record"
   ]
  },
  {
   "cell_type": "code",
   "execution_count": 14,
   "id": "a526c18b-30e2-4ce8-a9d8-33d96ba05278",
   "metadata": {},
   "outputs": [
    {
     "name": "stdout",
     "output_type": "stream",
     "text": [
      "{'name': None, 'age': None, 'gender': None}\n"
     ]
    }
   ],
   "source": [
    "#8.fromkeys() : Make a new dict from a list of keys.\n",
    "fields = ['name', 'age', 'gender']\n",
    "empty_profile = dict.fromkeys(fields, None)\n",
    "print(empty_profile)\n",
    "# {'name': None, 'age': None, 'gender': None}"
   ]
  },
  {
   "cell_type": "code",
   "execution_count": 15,
   "id": "95aa3587-bbe5-40dd-b241-0d724dd9551c",
   "metadata": {},
   "outputs": [
    {
     "name": "stdout",
     "output_type": "stream",
     "text": [
      "{'name': 'Alice', 'age': 30, 'profession': 'Data Scientist', 'skills': ['Python', 'SQL', 'Pandas'], 'City': 'Delhi'}\n"
     ]
    }
   ],
   "source": [
    "record_copy = record.copy()\n",
    "print(record_copy)"
   ]
  },
  {
   "cell_type": "code",
   "execution_count": 16,
   "id": "a0a306bd-ff87-4030-87bf-ac00b9c38be1",
   "metadata": {},
   "outputs": [
    {
     "name": "stdout",
     "output_type": "stream",
     "text": [
      "30\n",
      "{'name': 'Alice', 'profession': 'Data Scientist'}\n"
     ]
    },
    {
     "data": {
      "text/plain": [
       "'Not Found'"
      ]
     },
     "execution_count": 16,
     "metadata": {},
     "output_type": "execute_result"
    }
   ],
   "source": [
    "#10. .pop() :Removes the specified key from the dictionary and returns its value.\n",
    "record = {'name': 'Alice', 'age': 30, 'profession': 'Data Scientist'}\n",
    "\n",
    "value = record.pop('age')\n",
    "print(value)     # 30\n",
    "print(record)    # {'name': 'Alice', 'profession': 'Data Scientist'}\n",
    "\n",
    "# If key doesn't exist:\n",
    "record.pop('city', 'Not Found')   # returns 'Not Found'\n",
    "#record.pop('gender')              # ❌ raises KeyError\n"
   ]
  },
  {
   "cell_type": "code",
   "execution_count": 17,
   "id": "f4a6a5bd-34d4-4d65-b61a-97b5826fa750",
   "metadata": {},
   "outputs": [
    {
     "name": "stdout",
     "output_type": "stream",
     "text": [
      "('profession', 'Data Scientist')\n",
      "{'name': 'Alice', 'age': 30}\n"
     ]
    }
   ],
   "source": [
    "#11. .popitem() : Removes and returns the last inserted (key, value) pair as a tuple.\n",
    "record = {\n",
    "    'name': 'Alice',\n",
    "    'age': 30,\n",
    "    'profession': 'Data Scientist'\n",
    "}\n",
    "\n",
    "item = record.popitem()\n",
    "print(item)      # ('profession', 'Data Scientist')\n",
    "print(record)    # {'name': 'Alice', 'age': 30}"
   ]
  },
  {
   "cell_type": "code",
   "execution_count": 18,
   "id": "e528f30a-0118-424b-8b18-1d72e5c638fb",
   "metadata": {},
   "outputs": [],
   "source": [
    "# If dict is empty:\n",
    "empty = {}\n",
    "#empty.popitem()  # ❌ KeyError"
   ]
  },
  {
   "cell_type": "code",
   "execution_count": 32,
   "id": "29d9978a-e25c-4c95-a54f-c861dfd24e4a",
   "metadata": {},
   "outputs": [
    {
     "data": {
      "text/plain": [
       "{1: 'Mohammad Areeb Ahmad', 2: 'Ricardo Kaka', 3: 'Lionel Messi', 4: 'Ronaldo'}"
      ]
     },
     "execution_count": 32,
     "metadata": {},
     "output_type": "execute_result"
    }
   ],
   "source": [
    "mydict1 = {\n",
    "    1: \"Mohammad Areeb Ahmad\",\n",
    "    2: \"Ricardo Kaka\",\n",
    "    3: \"Lionel Messi\",\n",
    "    4: \"Ronaldo\"\n",
    "}\n",
    "mydict1"
   ]
  },
  {
   "cell_type": "code",
   "execution_count": 20,
   "id": "dd6a2d15-1fc7-4321-b6ad-aa69911a3e6e",
   "metadata": {},
   "outputs": [
    {
     "data": {
      "text/plain": [
       "'Mohammad Areeb Ahmad'"
      ]
     },
     "execution_count": 20,
     "metadata": {},
     "output_type": "execute_result"
    }
   ],
   "source": [
    "mydict1[1]"
   ]
  },
  {
   "cell_type": "code",
   "execution_count": 21,
   "id": "37625c05-e6e9-48ad-a32b-9492e5cb625b",
   "metadata": {},
   "outputs": [
    {
     "data": {
      "text/plain": [
       "'Lionel Messi'"
      ]
     },
     "execution_count": 21,
     "metadata": {},
     "output_type": "execute_result"
    }
   ],
   "source": [
    "mydict1[3]"
   ]
  },
  {
   "cell_type": "code",
   "execution_count": 33,
   "id": "88c69ae6-2aa3-4eaf-abfc-337d057e3a56",
   "metadata": {},
   "outputs": [],
   "source": [
    "mydict1.update({4:\"Pele\"})"
   ]
  },
  {
   "cell_type": "code",
   "execution_count": 34,
   "id": "0e97d778-bb37-4f57-8e85-0a493085b03e",
   "metadata": {},
   "outputs": [
    {
     "data": {
      "text/plain": [
       "{1: 'Mohammad Areeb Ahmad', 2: 'Ricardo Kaka', 3: 'Lionel Messi', 4: 'Pele'}"
      ]
     },
     "execution_count": 34,
     "metadata": {},
     "output_type": "execute_result"
    }
   ],
   "source": [
    "mydict1"
   ]
  },
  {
   "cell_type": "code",
   "execution_count": 36,
   "id": "863fde67-d26c-4381-a4d9-9ce91f1cc7f6",
   "metadata": {},
   "outputs": [
    {
     "data": {
      "text/plain": [
       "{1: 'Mohammad Areeb Ahmad',\n",
       " 2: 'Kafu',\n",
       " 3: 'Lionel Messi',\n",
       " 4: 'Pele',\n",
       " 5: 'Zidane',\n",
       " 6: 'Marcelo'}"
      ]
     },
     "execution_count": 36,
     "metadata": {},
     "output_type": "execute_result"
    }
   ],
   "source": [
    "mydict1.update({2:\"Kafu\",5:\"Zidane\",6:\"Marcelo\"})\n",
    "mydict1"
   ]
  },
  {
   "cell_type": "code",
   "execution_count": null,
   "id": "a8fa22f1-b8ab-414c-b7dd-34d879342d64",
   "metadata": {},
   "outputs": [],
   "source": []
  },
  {
   "cell_type": "code",
   "execution_count": null,
   "id": "5227e79d-de10-473a-a8a5-393a97c85492",
   "metadata": {},
   "outputs": [],
   "source": []
  }
 ],
 "metadata": {
  "kernelspec": {
   "display_name": "Python 3 (ipykernel)",
   "language": "python",
   "name": "python3"
  },
  "language_info": {
   "codemirror_mode": {
    "name": "ipython",
    "version": 3
   },
   "file_extension": ".py",
   "mimetype": "text/x-python",
   "name": "python",
   "nbconvert_exporter": "python",
   "pygments_lexer": "ipython3",
   "version": "3.12.7"
  }
 },
 "nbformat": 4,
 "nbformat_minor": 5
}
