{
 "cells": [
  {
   "cell_type": "markdown",
   "id": "a4dc1dcf-a6a7-40cd-b307-78dc15b0acc9",
   "metadata": {},
   "source": [
    "**.format()**"
   ]
  },
  {
   "cell_type": "code",
   "execution_count": 1,
   "id": "3c02e2cf-007a-4849-934f-029be883e610",
   "metadata": {},
   "outputs": [
    {
     "name": "stdout",
     "output_type": "stream",
     "text": [
      "My name is Alice and I am 25 years old.\n"
     ]
    }
   ],
   "source": [
    "name = \"Alice\"\n",
    "age = 25\n",
    "print(\"My name is {} and I am {} years old.\".format(name, age))"
   ]
  },
  {
   "cell_type": "markdown",
   "id": "49501fe9-3a01-4e16-b713-4b2f7f2918c8",
   "metadata": {},
   "source": [
    "- Positional Argument in .format()"
   ]
  },
  {
   "cell_type": "code",
   "execution_count": 3,
   "id": "81f3c739-d122-4d37-9c0a-99e21d5bd1a7",
   "metadata": {},
   "outputs": [
    {
     "name": "stdout",
     "output_type": "stream",
     "text": [
      "My age is 25 and my name is Alice\n"
     ]
    }
   ],
   "source": [
    "print(\"My age is {1} and my name is {0}\".format(name, age))"
   ]
  },
  {
   "cell_type": "markdown",
   "id": "2fec94a3-f368-416c-8dc0-a3b064c35e08",
   "metadata": {},
   "source": [
    "- Keyword Argument in .format()"
   ]
  },
  {
   "cell_type": "code",
   "execution_count": 6,
   "id": "d1a035d9-9e4d-4ede-9712-2611176ddc15",
   "metadata": {},
   "outputs": [
    {
     "name": "stdout",
     "output_type": "stream",
     "text": [
      "My age is 35 years and My name is Kohli\n"
     ]
    }
   ],
   "source": [
    "print(\"My age is {age} years and My name is {name}\".format(age=35,name=\"Kohli\"))"
   ]
  },
  {
   "cell_type": "markdown",
   "id": "a169cd6c-0b3b-4616-81c0-df86ff4c7259",
   "metadata": {},
   "source": [
    "**f-string**"
   ]
  },
  {
   "cell_type": "code",
   "execution_count": 8,
   "id": "5f656cd8-91c1-4df3-a184-b9bc02e8a733",
   "metadata": {},
   "outputs": [
    {
     "name": "stdout",
     "output_type": "stream",
     "text": [
      "India's run machine : Virat is 29 years old\n"
     ]
    }
   ],
   "source": [
    "name = \"Virat\"\n",
    "age = 29\n",
    "print(f\"India's run machine : {name} is {age} years old\")"
   ]
  },
  {
   "cell_type": "code",
   "execution_count": 9,
   "id": "65b67e2e-9f32-4bb6-9a5d-6eefd1f2daa3",
   "metadata": {},
   "outputs": [
    {
     "name": "stdout",
     "output_type": "stream",
     "text": [
      "Sum of 5 and 10 is 15\n"
     ]
    }
   ],
   "source": [
    "# Expressions Inside f-Strings\n",
    "a = 5\n",
    "b = 10\n",
    "print(f\"Sum of {a} and {b} is {a + b}\")\n",
    "# Output: Sum of 5 and 10 is 15"
   ]
  },
  {
   "cell_type": "code",
   "execution_count": 13,
   "id": "cc5ba062-7bf6-4562-967f-1e605d4f3cbb",
   "metadata": {},
   "outputs": [
    {
     "name": "stdout",
     "output_type": "stream",
     "text": [
      "Value of pi rounded to 2 decimal places is: 3.14\n"
     ]
    }
   ],
   "source": [
    "#Formatting Numbers\n",
    "pi = 3.14159\n",
    "print(f\"Value of pi rounded to 2 decimal places is: {pi:.2f}\")"
   ]
  },
  {
   "cell_type": "code",
   "execution_count": 21,
   "id": "d3e685fd-da61-461d-a50c-553cbb6dc900",
   "metadata": {},
   "outputs": [
    {
     "name": "stdout",
     "output_type": "stream",
     "text": [
      "Python    \n",
      "    Python\n",
      "  Python  \n",
      "Python\n"
     ]
    }
   ],
   "source": [
    "#Padding and Alignment\n",
    "print(f\"{'Python':<10}\") # Left-align\n",
    "print(f\"{'Python':>10}\") # Right-align\n",
    "print(f\"{'Python':^10}\") # Center-align\n",
    "#:<10 → The < symbol means left-align the text within a total width of 10 characters\n",
    "print(f\"{'Python':<1}\")"
   ]
  },
  {
   "cell_type": "code",
   "execution_count": null,
   "id": "ef729d64-3b79-4147-a68f-1131ba6eb305",
   "metadata": {},
   "outputs": [],
   "source": []
  }
 ],
 "metadata": {
  "kernelspec": {
   "display_name": "Python 3 (ipykernel)",
   "language": "python",
   "name": "python3"
  },
  "language_info": {
   "codemirror_mode": {
    "name": "ipython",
    "version": 3
   },
   "file_extension": ".py",
   "mimetype": "text/x-python",
   "name": "python",
   "nbconvert_exporter": "python",
   "pygments_lexer": "ipython3",
   "version": "3.12.7"
  }
 },
 "nbformat": 4,
 "nbformat_minor": 5
}
