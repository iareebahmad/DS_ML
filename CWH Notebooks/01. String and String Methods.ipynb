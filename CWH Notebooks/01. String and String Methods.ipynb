{
 "cells": [
  {
   "cell_type": "code",
   "execution_count": 1,
   "id": "83d9eb5d-de32-4749-bf92-baa3c7271cfa",
   "metadata": {},
   "outputs": [
    {
     "data": {
      "text/plain": [
       "'data'"
      ]
     },
     "execution_count": 1,
     "metadata": {},
     "output_type": "execute_result"
    }
   ],
   "source": [
    "#lower(): Convert to lowercase.\n",
    "\"Data\".lower() # \"data\""
   ]
  },
  {
   "cell_type": "code",
   "execution_count": 2,
   "id": "ec7cf209-ec6f-48cf-8235-728f3e26904e",
   "metadata": {},
   "outputs": [
    {
     "data": {
      "text/plain": [
       "'DATA'"
      ]
     },
     "execution_count": 2,
     "metadata": {},
     "output_type": "execute_result"
    }
   ],
   "source": [
    "#upper(): Convert to uppercase.\n",
    "\"data\".upper() # \"DATA\""
   ]
  },
  {
   "cell_type": "code",
   "execution_count": 3,
   "id": "d6b6d60e-1b44-42a2-8dca-e3d629536365",
   "metadata": {},
   "outputs": [
    {
     "data": {
      "text/plain": [
       "'hello'"
      ]
     },
     "execution_count": 3,
     "metadata": {},
     "output_type": "execute_result"
    }
   ],
   "source": [
    "#strip(): Remove leading/trailing whitespace\n",
    "\" hello \".strip() # \"hello\""
   ]
  },
  {
   "cell_type": "code",
   "execution_count": 4,
   "id": "b187b30e-55ac-40c7-a6d4-167d48d46485",
   "metadata": {},
   "outputs": [
    {
     "data": {
      "text/plain": [
       "'hello  '"
      ]
     },
     "execution_count": 4,
     "metadata": {},
     "output_type": "execute_result"
    }
   ],
   "source": [
    "#lstrip(): Remove leading/trailing whitespace on left\n",
    "\" hello  \".lstrip() # \"hello  \"  "
   ]
  },
  {
   "cell_type": "code",
   "execution_count": 5,
   "id": "f5400f4b-07ad-498f-abb9-cdca54d304e8",
   "metadata": {},
   "outputs": [
    {
     "data": {
      "text/plain": [
       "' hello'"
      ]
     },
     "execution_count": 5,
     "metadata": {},
     "output_type": "execute_result"
    }
   ],
   "source": [
    "#rstrip(): Remove leading/trailing whitespace on right\n",
    "\" hello  \".rstrip() # \" hello\"  "
   ]
  },
  {
   "cell_type": "code",
   "execution_count": 6,
   "id": "8b5ffe84-04dd-4522-b435-f6fedcc47b35",
   "metadata": {},
   "outputs": [
    {
     "data": {
      "text/plain": [
       "4"
      ]
     },
     "execution_count": 6,
     "metadata": {},
     "output_type": "execute_result"
    }
   ],
   "source": [
    "#.find(): Find index of substring.\n",
    "\"analytics\".find(\"y\") # 4"
   ]
  },
  {
   "cell_type": "code",
   "execution_count": 7,
   "id": "25e31015-b244-4826-a659-2ab37208a0e1",
   "metadata": {},
   "outputs": [
    {
     "data": {
      "text/plain": [
       "True"
      ]
     },
     "execution_count": 7,
     "metadata": {},
     "output_type": "execute_result"
    }
   ],
   "source": [
    "#.startswith(): Check if string starts with a substring.\n",
    "\"report.csv\".startswith(\"report\") # True"
   ]
  },
  {
   "cell_type": "code",
   "execution_count": 8,
   "id": "6ace3970-2b25-4b14-b79d-9311fcb95754",
   "metadata": {},
   "outputs": [
    {
     "data": {
      "text/plain": [
       "True"
      ]
     },
     "execution_count": 8,
     "metadata": {},
     "output_type": "execute_result"
    }
   ],
   "source": [
    "#endswith(): Check if string ends with a substring.\n",
    "\"report.csv\".endswith(\".csv\") # True"
   ]
  },
  {
   "cell_type": "code",
   "execution_count": 9,
   "id": "ad1fdfb0-4726-4cd7-9355-6520f8224a1d",
   "metadata": {},
   "outputs": [
    {
     "data": {
      "text/plain": [
       "True"
      ]
     },
     "execution_count": 9,
     "metadata": {},
     "output_type": "execute_result"
    }
   ],
   "source": [
    "#in: Check if substring exists in string.\n",
    "\"id\" in \"user_id\" # True"
   ]
  },
  {
   "cell_type": "code",
   "execution_count": 10,
   "id": "5c6e3226-04c2-46ec-8a92-b0d7a9e76f04",
   "metadata": {},
   "outputs": [
    {
     "data": {
      "text/plain": [
       "['apple', 'banana', 'organge', 'mango']"
      ]
     },
     "execution_count": 10,
     "metadata": {},
     "output_type": "execute_result"
    }
   ],
   "source": [
    "#.split(sep): Split string into list\n",
    "\"apple,banana,organge,mango\".split(\",\") # [\"apple\", \"banana\"]\n"
   ]
  },
  {
   "cell_type": "code",
   "execution_count": 11,
   "id": "c9ee59e9-c038-46aa-a242-5f9a6112ee59",
   "metadata": {},
   "outputs": [
    {
     "data": {
      "text/plain": [
       "'2025-06-03'"
      ]
     },
     "execution_count": 11,
     "metadata": {},
     "output_type": "execute_result"
    }
   ],
   "source": [
    "#.join(iterable): Join list into string.\n",
    "\"-\".join([\"2025\", \"06\", \"03\"]) # \"2025-06-03\""
   ]
  },
  {
   "cell_type": "code",
   "execution_count": 12,
   "id": "fd3e5882-31ea-441e-8a8f-d3a53f0baa37",
   "metadata": {},
   "outputs": [
    {
     "data": {
      "text/plain": [
       "''"
      ]
     },
     "execution_count": 12,
     "metadata": {},
     "output_type": "execute_result"
    }
   ],
   "source": [
    "#.replace(old, new): Replace substring.\n",
    "\"N/A\".replace(\"N/A\", \"\") # \"\""
   ]
  },
  {
   "cell_type": "code",
   "execution_count": 13,
   "id": "ce878e54-0887-428d-9bb8-b1a123da12b9",
   "metadata": {},
   "outputs": [
    {
     "data": {
      "text/plain": [
       "'Data Science'"
      ]
     },
     "execution_count": 13,
     "metadata": {},
     "output_type": "execute_result"
    }
   ],
   "source": [
    "#.title(): Title-case string.\n",
    "\"data science\".title() # Data Science"
   ]
  },
  {
   "cell_type": "code",
   "execution_count": 14,
   "id": "2cdf8397-a03a-4237-adf5-ed5754cb4763",
   "metadata": {},
   "outputs": [
    {
     "data": {
      "text/plain": [
       "'Ricardo kaka'"
      ]
     },
     "execution_count": 14,
     "metadata": {},
     "output_type": "execute_result"
    }
   ],
   "source": [
    "#.capitalize(): Capitalize first letter.\n",
    "\"ricardo kaka\".capitalize() # Ricardo kaka"
   ]
  },
  {
   "cell_type": "code",
   "execution_count": 15,
   "id": "44fd584b-6d73-47b8-94f7-75d89a0536f2",
   "metadata": {},
   "outputs": [
    {
     "data": {
      "text/plain": [
       "True"
      ]
     },
     "execution_count": 15,
     "metadata": {},
     "output_type": "execute_result"
    }
   ],
   "source": [
    "#.isdigit(): Check if all chars are digits.\n",
    "\"123\".isdigit() # True"
   ]
  },
  {
   "cell_type": "code",
   "execution_count": 16,
   "id": "cd7f5774-4411-470e-94ea-2a960f57cb17",
   "metadata": {},
   "outputs": [
    {
     "data": {
      "text/plain": [
       "True"
      ]
     },
     "execution_count": 16,
     "metadata": {},
     "output_type": "execute_result"
    }
   ],
   "source": [
    "#.isalpha(): Check if all chars are letters.(No space even)\n",
    "\"king\".isalpha() # True"
   ]
  },
  {
   "cell_type": "code",
   "execution_count": 17,
   "id": "7ae2eca2-842b-478b-98fb-3bb1dcbce130",
   "metadata": {},
   "outputs": [
    {
     "data": {
      "text/plain": [
       "True"
      ]
     },
     "execution_count": 17,
     "metadata": {},
     "output_type": "execute_result"
    }
   ],
   "source": [
    "#.isalnum(): Check if all chars are alphanumeric.(No Space even)\n",
    "\"error404\".isalnum() # True"
   ]
  },
  {
   "cell_type": "code",
   "execution_count": 18,
   "id": "4759a14e-6260-4ab8-97ff-492526130e6c",
   "metadata": {},
   "outputs": [
    {
     "data": {
      "text/plain": [
       "True"
      ]
     },
     "execution_count": 18,
     "metadata": {},
     "output_type": "execute_result"
    }
   ],
   "source": [
    "#.isspace(): Check if string has only spaces.\n",
    "\"    \".isspace() # True"
   ]
  },
  {
   "cell_type": "code",
   "execution_count": 19,
   "id": "573a1336-c115-400d-bd87-8fce6c3b5a50",
   "metadata": {},
   "outputs": [
    {
     "data": {
      "text/plain": [
       "\"India's run machine is Kohli in T20\""
      ]
     },
     "execution_count": 19,
     "metadata": {},
     "output_type": "execute_result"
    }
   ],
   "source": [
    "#f-strings: Formatted string literals.\n",
    "name = \"Kohli\"\n",
    "game = \"T20\"\n",
    "f\"India's run machine is {name} in {game}\""
   ]
  },
  {
   "cell_type": "code",
   "execution_count": 20,
   "id": "3ec34ba6-4a4c-4d6e-a3af-c2d9035d40ca",
   "metadata": {},
   "outputs": [
    {
     "data": {
      "text/plain": [
       "\"India's run machine is Kohli in T20\""
      ]
     },
     "execution_count": 20,
     "metadata": {},
     "output_type": "execute_result"
    }
   ],
   "source": [
    "#.format(): Format string using placeholders.\n",
    "\"India's run machine is {} in {}\".format(\"Kohli\",\"T20\")"
   ]
  },
  {
   "cell_type": "code",
   "execution_count": 5,
   "id": "2b7cbc42-cdd4-4b17-89d3-41caffe52008",
   "metadata": {},
   "outputs": [
    {
     "data": {
      "text/plain": [
       "['Mango', 'Apple', 'Guava']"
      ]
     },
     "execution_count": 5,
     "metadata": {},
     "output_type": "execute_result"
    }
   ],
   "source": [
    "#.split(separator)\n",
    "fruits = \"Mango,Apple,Guava\"\n",
    "fruit_list = fruits.split(\",\")\n",
    "fruit_list"
   ]
  },
  {
   "cell_type": "code",
   "execution_count": 15,
   "id": "5dee9eb9-f373-4f6e-867c-7badda23fcd5",
   "metadata": {},
   "outputs": [
    {
     "data": {
      "text/plain": [
       "'Mango,Apple,Guava'"
      ]
     },
     "execution_count": 15,
     "metadata": {},
     "output_type": "execute_result"
    }
   ],
   "source": [
    "fruits_str = \",\".join(fruit_list)\n",
    "fruits_str"
   ]
  },
  {
   "cell_type": "markdown",
   "id": "7a181372-53ec-415d-92ae-57a5adbe30bd",
   "metadata": {},
   "source": [
    "Strings are immutable, any change in the base string basically creates a new string"
   ]
  },
  {
   "cell_type": "code",
   "execution_count": 20,
   "id": "b65dbc2d-4662-469f-948a-8cb842f212ba",
   "metadata": {},
   "outputs": [
    {
     "name": "stdout",
     "output_type": "stream",
     "text": [
      "Kaka is the best football player\n",
      "Ronaldo is the best football player\n",
      "Kaka is the best football player\n"
     ]
    }
   ],
   "source": [
    "str1 = \"Kaka is the best football player\"\n",
    "print(str1)\n",
    "print(str1.replace(\"Kaka\",\"Ronaldo\"))\n",
    "print(str1)"
   ]
  },
  {
   "cell_type": "code",
   "execution_count": 23,
   "id": "e0c71078-8580-4177-80ce-be377926fbbf",
   "metadata": {},
   "outputs": [
    {
     "name": "stdout",
     "output_type": "stream",
     "text": [
      "FARHAN\n",
      "farhan\n",
      "Farhan\n"
     ]
    }
   ],
   "source": [
    "name = \"Farhan\"\n",
    "print(name.upper())\n",
    "print(name.lower())\n",
    "print(name)"
   ]
  },
  {
   "cell_type": "code",
   "execution_count": null,
   "id": "20d0423c-945a-4954-9487-a24a1c19123a",
   "metadata": {},
   "outputs": [],
   "source": []
  }
 ],
 "metadata": {
  "kernelspec": {
   "display_name": "Python 3 (ipykernel)",
   "language": "python",
   "name": "python3"
  },
  "language_info": {
   "codemirror_mode": {
    "name": "ipython",
    "version": 3
   },
   "file_extension": ".py",
   "mimetype": "text/x-python",
   "name": "python",
   "nbconvert_exporter": "python",
   "pygments_lexer": "ipython3",
   "version": "3.12.7"
  }
 },
 "nbformat": 4,
 "nbformat_minor": 5
}
