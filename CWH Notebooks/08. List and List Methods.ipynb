{
 "cells": [
  {
   "cell_type": "code",
   "execution_count": 1,
   "id": "d7234966-6d6b-4d24-aae5-6bc9ec68365c",
   "metadata": {},
   "outputs": [
    {
     "name": "stdout",
     "output_type": "stream",
     "text": [
      "[]\n",
      "[1, 2, 3, 4, 5]\n"
     ]
    }
   ],
   "source": [
    "# Empty list\n",
    "my_list = []\n",
    "print(my_list)\n",
    "# List with elements\n",
    "numbers = [1, 2, 3, 4, 5]\n",
    "print(numbers)"
   ]
  },
  {
   "cell_type": "code",
   "execution_count": 1,
   "id": "035b71ba-ef5c-4490-9924-0cd33ad5ea26",
   "metadata": {},
   "outputs": [
    {
     "name": "stdout",
     "output_type": "stream",
     "text": [
      "List is empty\n"
     ]
    }
   ],
   "source": [
    "\"\"\" Why it works:\n",
    "In Python, empty sequences (like [], '', {}) are treated as False when used in a condition.\n",
    "\n",
    "So, not my_list becomes True if the list is empty. \"\"\"\n",
    "my_list = []\n",
    "if not my_list:\n",
    "    print(\"List is empty\")\n",
    "else:\n",
    "    print(\"List is not empty\")"
   ]
  },
  {
   "cell_type": "markdown",
   "id": "3352c0f0-42ae-495e-97ce-79b2f1450102",
   "metadata": {},
   "source": [
    "- string.split(\"separator\") : Converts str into list"
   ]
  },
  {
   "cell_type": "code",
   "execution_count": 8,
   "id": "131288f8-5456-479e-ab0e-ebb769cc952d",
   "metadata": {},
   "outputs": [
    {
     "name": "stdout",
     "output_type": "stream",
     "text": [
      "['Apple', 'Mano', 'Banana']\n"
     ]
    }
   ],
   "source": [
    "str1 = \"Apple,Mano,Banana\"\n",
    "list1 = str1.split(\",\")\n",
    "print(list1)"
   ]
  },
  {
   "cell_type": "markdown",
   "id": "a1a49c05-fbe9-428d-837d-1260322e74e1",
   "metadata": {},
   "source": [
    "- \"separator\".join(list) : Converts list into str"
   ]
  },
  {
   "cell_type": "code",
   "execution_count": 9,
   "id": "9c423201-a057-4f31-ae1d-4aecfcda12fd",
   "metadata": {},
   "outputs": [
    {
     "data": {
      "text/plain": [
       "'Apple,Mano,Banana'"
      ]
     },
     "execution_count": 9,
     "metadata": {},
     "output_type": "execute_result"
    }
   ],
   "source": [
    "str2 = \",\".join(list1)\n",
    "str2"
   ]
  },
  {
   "cell_type": "code",
   "execution_count": 16,
   "id": "8cca11e7-7b69-43ce-a46c-a5d36dbad12f",
   "metadata": {},
   "outputs": [
    {
     "data": {
      "text/plain": [
       "[1, 'Hello', 3.14, True, (2+3j)]"
      ]
     },
     "execution_count": 16,
     "metadata": {},
     "output_type": "execute_result"
    }
   ],
   "source": [
    "# Mixed data types\n",
    "mixed_list = [1, \"Hello\", 3.14, True,3j+2]\n",
    "mixed_list"
   ]
  },
  {
   "cell_type": "markdown",
   "id": "0e2b1f69-0de1-41fb-9987-eb36fa0ed96e",
   "metadata": {},
   "source": [
    "**List Methods**"
   ]
  },
  {
   "cell_type": "code",
   "execution_count": 17,
   "id": "724062a2-3a31-4d0d-9009-e5b75c37ee13",
   "metadata": {},
   "outputs": [],
   "source": [
    "my_list = [10,\"hello\"]"
   ]
  },
  {
   "cell_type": "code",
   "execution_count": 18,
   "id": "edab2c85-2d5f-4c71-a2cf-c8bbc1b09f0e",
   "metadata": {},
   "outputs": [
    {
     "name": "stdout",
     "output_type": "stream",
     "text": [
      "[10, 'hello', 20]\n"
     ]
    }
   ],
   "source": [
    "#append(x) : Adds an element x to the end of the list.\n",
    "my_list.append(20)\n",
    "print(my_list)"
   ]
  },
  {
   "cell_type": "code",
   "execution_count": 20,
   "id": "47ca12eb-4bf5-4153-833b-93382ce97b5a",
   "metadata": {},
   "outputs": [
    {
     "name": "stdout",
     "output_type": "stream",
     "text": [
      "[10, 'hello', 20, 30, 'Jo', 30, 'Jo']\n"
     ]
    }
   ],
   "source": [
    "#extend(iterable) : Extends the list by appending all elements from an iterable.\\\n",
    "ext_list = [30,\"Jo\"]\n",
    "my_list.extend(ext_list)\n",
    "print(my_list)"
   ]
  },
  {
   "cell_type": "code",
   "execution_count": 21,
   "id": "2c4111e1-7fa3-469f-a344-dde91ca5bc68",
   "metadata": {},
   "outputs": [
    {
     "name": "stdout",
     "output_type": "stream",
     "text": [
      "20\n",
      "[10, 'hello', 200, 20, 30, 'Jo', 30, 'Jo']\n"
     ]
    }
   ],
   "source": [
    "#insert(index, x) : Inserts x at the specified index .\n",
    "print(my_list[2])\n",
    "my_list.insert(2,200)\n",
    "print(my_list)"
   ]
  },
  {
   "cell_type": "code",
   "execution_count": 23,
   "id": "e0e15185-801f-40a2-9bcd-216c9c5d7695",
   "metadata": {},
   "outputs": [
    {
     "name": "stdout",
     "output_type": "stream",
     "text": [
      "[10, 'hello', 200, 20, 'Jo', 'Jo']\n"
     ]
    }
   ],
   "source": [
    "#remove(x) : Removes the first occurrence of x in the list.\n",
    "my_list.remove(30)\n",
    "print(my_list)"
   ]
  },
  {
   "cell_type": "code",
   "execution_count": 27,
   "id": "d3afdb28-cc22-4a03-9e98-be8eba0bb563",
   "metadata": {},
   "outputs": [
    {
     "name": "stdout",
     "output_type": "stream",
     "text": [
      "200\n",
      "[10, 'hello', 20, 'Jo', 'Jo']\n",
      "200\n"
     ]
    }
   ],
   "source": [
    "#pop([index]) : Removes and returns the element at index (last element if index is not provided).\n",
    "print(my_list[2])\n",
    "popped_elem = my_list.pop(2)\n",
    "print(my_list)\n",
    "print(popped_elem)"
   ]
  },
  {
   "cell_type": "code",
   "execution_count": 29,
   "id": "55b8de3f-e68c-4b98-b239-a221bff4ce68",
   "metadata": {},
   "outputs": [
    {
     "name": "stdout",
     "output_type": "stream",
     "text": [
      "1\n"
     ]
    }
   ],
   "source": [
    "# index(x) : Returns the index of the first occurrence of x .\n",
    "print(my_list.index('hello'))"
   ]
  },
  {
   "cell_type": "code",
   "execution_count": 30,
   "id": "fe372b1f-0914-4253-b918-44938147c618",
   "metadata": {},
   "outputs": [
    {
     "data": {
      "text/plain": [
       "2"
      ]
     },
     "execution_count": 30,
     "metadata": {},
     "output_type": "execute_result"
    }
   ],
   "source": [
    "#count(x) : Returns the number of times x appears in the list.\n",
    "my_list.count('Jo')"
   ]
  },
  {
   "cell_type": "code",
   "execution_count": 32,
   "id": "28c72b0d-7595-4c28-ba30-6f4238fcfc96",
   "metadata": {},
   "outputs": [],
   "source": [
    "#sort() : Sorts the list in ascending order.\n",
    "#my_list.sort()  will show error because the list has both str and int vals"
   ]
  },
  {
   "cell_type": "code",
   "execution_count": 37,
   "id": "8e37075f-3afe-4218-b926-c12b2114e103",
   "metadata": {},
   "outputs": [
    {
     "name": "stdout",
     "output_type": "stream",
     "text": [
      "['Jo', 'Jo', 20, 'hello', 10]\n",
      "[10, 'hello', 20, 'Jo', 'Jo']\n"
     ]
    }
   ],
   "source": [
    "#reverse() : Reverses the order of the list. \n",
    "print(my_list)\n",
    "my_list.reverse()\n",
    "print(my_list)"
   ]
  },
  {
   "cell_type": "code",
   "execution_count": 41,
   "id": "066ffeef-5f59-4152-95d6-0c46f374abbd",
   "metadata": {},
   "outputs": [
    {
     "name": "stdout",
     "output_type": "stream",
     "text": [
      "[10, 'hello', 20, 'Jo', 'Jo']\n",
      "[10, 'hello', 20, 'Jo', 'Jo']\n"
     ]
    }
   ],
   "source": [
    "#copy() : Returns a shallow copy of the list. \n",
    "print(my_list)\n",
    "copy_list = my_list.copy()\n",
    "print(copy_list)"
   ]
  },
  {
   "cell_type": "code",
   "execution_count": 42,
   "id": "14c3f4f7-4cd5-40d2-8171-60261919f2e7",
   "metadata": {},
   "outputs": [
    {
     "name": "stdout",
     "output_type": "stream",
     "text": [
      "[10, 'Yo', 20, 'Jo', 'Jo']\n",
      "[10, 'hello', 20, 'Jo', 'Jo']\n"
     ]
    }
   ],
   "source": [
    "my_list[1] = \"Yo\"\n",
    "print(my_list)\n",
    "print(copy_list)"
   ]
  },
  {
   "cell_type": "code",
   "execution_count": 44,
   "id": "03b80f3c-9587-460a-8e91-d395aa14c447",
   "metadata": {},
   "outputs": [
    {
     "name": "stdout",
     "output_type": "stream",
     "text": [
      "[10, 'hello', 20, 'Jo', 'Jo']\n",
      "[10, 'Yo', 20, 'Jo', 'Jo']\n",
      "[10, 'hello', 'Hon', 'Jo', 'Jo']\n"
     ]
    }
   ],
   "source": [
    "print(copy_list)\n",
    "copy_list[2] = \"Hon\"\n",
    "print(my_list)\n",
    "print(copy_list)"
   ]
  },
  {
   "cell_type": "markdown",
   "id": "e6e055b5-e5e2-473f-a99c-3c663898c498",
   "metadata": {},
   "source": [
    "| Copy Type    | Affects Other List? | When?                                  |\n",
    "| ------------ | ------------------- | -------------------------------------- |\n",
    "| `.copy()`    | ❌ No                | If list contains only simple values    |\n",
    "| `.copy()`    | ✅ Yes               | If list contains nested/mutable values |\n",
    "| `deepcopy()` | ❌ Never             | Completely safe, but slower            |\n"
   ]
  },
  {
   "cell_type": "code",
   "execution_count": 51,
   "id": "b1891571-7b65-4107-983a-3765f6982d78",
   "metadata": {},
   "outputs": [
    {
     "name": "stdout",
     "output_type": "stream",
     "text": [
      "['apple', 'banana', 'cherry', 'orange', 'peach', 'watermelom']\n"
     ]
    }
   ],
   "source": [
    "fruits = ['apple', 'watermelom','banana','peach', 'cherry', 'orange']\n",
    "fruits.sort()\n",
    "print(fruits)"
   ]
  },
  {
   "cell_type": "markdown",
   "id": "db573295-eb8e-4b44-bd5f-410e837ffa6c",
   "metadata": {},
   "source": [
    "**Difference between sort() and sorted()**"
   ]
  },
  {
   "cell_type": "markdown",
   "id": "eed1508f-242c-4c70-9da5-84c26e071ac1",
   "metadata": {},
   "source": [
    "| Feature               | `sort()`                           | `sorted()`                                  |\n",
    "| --------------------- | ---------------------------------- | ------------------------------------------- |\n",
    "| Applicable to         | Lists only                         | Any iterable (list, tuple, set, dict, etc.) |\n",
    "| Return value          | Returns `None`                     | Returns a **new sorted list**               |\n",
    "| In-place modification | ✅ Yes (modifies the original list) | ❌ No (original data remains unchanged)      |\n",
    "| Original data         | Changes                            | Unchanged                                   |\n",
    "| Usage syntax          | `list.sort()`                      | `sorted(iterable)`                          |\n",
    "| Flexibility           | Less flexible                      | More flexible (can work on any iterable)    |\n",
    "| Performance           | Slightly faster for lists          | Slightly slower due to creating a new list  |\n"
   ]
  },
  {
   "cell_type": "code",
   "execution_count": 4,
   "id": "04e26c5a-2e64-4b97-807f-abf8b65ee9ac",
   "metadata": {},
   "outputs": [
    {
     "name": "stdout",
     "output_type": "stream",
     "text": [
      "[10, 2, 3, 5, 22, -9, -10]\n"
     ]
    }
   ],
   "source": [
    "list1 = [10,2,3,5,22,-9,-10]\n",
    "print(list1)  # Sorts the original list"
   ]
  },
  {
   "cell_type": "code",
   "execution_count": 6,
   "id": "c88e9105-350a-47b0-a55d-b442dfec2aae",
   "metadata": {},
   "outputs": [
    {
     "name": "stdout",
     "output_type": "stream",
     "text": [
      "[-9.1, 33, 12, -8.12]\n",
      "[-9.1, -8.12, 12, 33]\n"
     ]
    }
   ],
   "source": [
    "list2 = [-9.100,33,12,-8.12]\n",
    "new_list2 = sorted(list2)\n",
    "print(list2)  # Original list remains unchanged\n",
    "print(new_list2)  # A new sorted list is created"
   ]
  },
  {
   "cell_type": "code",
   "execution_count": 15,
   "id": "c272ed68-8135-4303-8331-c56483dcc176",
   "metadata": {},
   "outputs": [
    {
     "name": "stdout",
     "output_type": "stream",
     "text": [
      "[-4, 3, 4, 5, 9, 10, 12, 32, 97]\n",
      "[5, 32, 97, -4]\n",
      "[10, 12, 3, 4, 9]\n"
     ]
    }
   ],
   "source": [
    "# Concatenation of list\n",
    "list1 = [10,12,3,4,9]\n",
    "list2 = [5,32,97,-4]\n",
    "list3 = list1+list2\n",
    "list3.sort()\n",
    "print(list3)\n",
    "print(list2)  # Original List remains unchanged\n",
    "print(list1)  # Original List remains unchanged"
   ]
  },
  {
   "cell_type": "markdown",
   "id": "60384942-5748-44fe-8b59-a47bd0de4945",
   "metadata": {},
   "source": [
    "Membership of Element in List"
   ]
  },
  {
   "cell_type": "code",
   "execution_count": 17,
   "id": "86d383d6-e2fb-406f-99f6-49c0516ea346",
   "metadata": {},
   "outputs": [
    {
     "name": "stdout",
     "output_type": "stream",
     "text": [
      "yes\n"
     ]
    }
   ],
   "source": [
    "list1 = [10,12,3,4,9]\n",
    "if 3 in list1:          #(3 in list1) returns a boolean value\n",
    "    print(\"yes\")\n",
    "else:\n",
    "    print(\"no\")"
   ]
  },
  {
   "cell_type": "code",
   "execution_count": 21,
   "id": "4294de6c-4094-47ae-8a36-2edb83fcd907",
   "metadata": {},
   "outputs": [
    {
     "data": {
      "text/plain": [
       "['Jack', 'John', 'Salman', 'Rashid']"
      ]
     },
     "execution_count": 21,
     "metadata": {},
     "output_type": "execute_result"
    }
   ],
   "source": [
    "crew = \"jack-john-salman-rashid\"\n",
    "(crew.title()).split(\"-\")"
   ]
  },
  {
   "cell_type": "code",
   "execution_count": 42,
   "id": "c7975432-c4f1-467b-98e4-fc02c32803dc",
   "metadata": {},
   "outputs": [
    {
     "name": "stdout",
     "output_type": "stream",
     "text": [
      "['Dhoni', 'Rohit', 'Kohli', 'Jadeja', 'Shami']\n"
     ]
    }
   ],
   "source": [
    "players = \"dhoni-rohit-kohli-jadeja-shami\"\n",
    "pl_list = players.split(\"-\")\n",
    "ans = [i.title() for i in pl_list]\n",
    "print(ans)"
   ]
  },
  {
   "cell_type": "code",
   "execution_count": 45,
   "id": "4c275e2b-9271-42e5-a2d7-c776dfd410b2",
   "metadata": {},
   "outputs": [
    {
     "name": "stdout",
     "output_type": "stream",
     "text": [
      "['Dhoni', 'Rohit', 'Kohli', 'Jadeja', 'Shami']\n"
     ]
    }
   ],
   "source": [
    "players = \"dhoni-rohit-kohli-jadeja-shami\"\n",
    "pl_list = players.split(\"-\")\n",
    "ans = []\n",
    "for i in pl_list:\n",
    "    ans.append(i.title())\n",
    "print(ans)"
   ]
  }
 ],
 "metadata": {
  "kernelspec": {
   "display_name": "Python 3 (ipykernel)",
   "language": "python",
   "name": "python3"
  },
  "language_info": {
   "codemirror_mode": {
    "name": "ipython",
    "version": 3
   },
   "file_extension": ".py",
   "mimetype": "text/x-python",
   "name": "python",
   "nbconvert_exporter": "python",
   "pygments_lexer": "ipython3",
   "version": "3.12.7"
  }
 },
 "nbformat": 4,
 "nbformat_minor": 5
}
