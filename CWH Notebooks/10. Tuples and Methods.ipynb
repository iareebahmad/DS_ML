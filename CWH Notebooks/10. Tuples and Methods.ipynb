{
 "cells": [
  {
   "cell_type": "markdown",
   "id": "05ed6a2e-ca82-4293-9b6f-1b70fbdcccec",
   "metadata": {},
   "source": [
    "**Tuples are same as Lists but the only difference is they are immuatable. Tuples are faster than lists**"
   ]
  },
  {
   "cell_type": "code",
   "execution_count": 1,
   "id": "ec887c93-29d3-4cc4-a9a9-923b48380e1d",
   "metadata": {},
   "outputs": [
    {
     "data": {
      "text/plain": [
       "()"
      ]
     },
     "execution_count": 1,
     "metadata": {},
     "output_type": "execute_result"
    }
   ],
   "source": [
    "# Empty Tuple\n",
    "tup = ()\n",
    "tup"
   ]
  },
  {
   "cell_type": "code",
   "execution_count": 7,
   "id": "88572a1d-d09b-4867-a016-def924230a6e",
   "metadata": {},
   "outputs": [
    {
     "name": "stdout",
     "output_type": "stream",
     "text": [
      "<class 'int'>\n",
      "<class 'tuple'>\n"
     ]
    }
   ],
   "source": [
    "# Single Element Tuple\n",
    "tup = (1)\n",
    "print(type(tup))\n",
    "true_tup = (1,)   # , is necessary\n",
    "print(type(true_tup))"
   ]
  },
  {
   "cell_type": "code",
   "execution_count": 9,
   "id": "eb8fed77-5833-44f2-9cf9-edb959fb4c4e",
   "metadata": {},
   "outputs": [
    {
     "data": {
      "text/plain": [
       "(2, 4, 5, 23)"
      ]
     },
     "execution_count": 9,
     "metadata": {},
     "output_type": "execute_result"
    }
   ],
   "source": [
    "# Tuple\n",
    "tup = (2,4,5,23)\n",
    "tup"
   ]
  },
  {
   "cell_type": "code",
   "execution_count": 10,
   "id": "f5f85722-83fc-43b1-8c63-8265a7504737",
   "metadata": {},
   "outputs": [
    {
     "data": {
      "text/plain": [
       "(1, 2, (5+4j), True, 5.12, 'Yo')"
      ]
     },
     "execution_count": 10,
     "metadata": {},
     "output_type": "execute_result"
    }
   ],
   "source": [
    "# Mixed Tuple\n",
    "tup = (1,2,5+4j,True,5.12,\"Yo\")\n",
    "tup"
   ]
  },
  {
   "cell_type": "code",
   "execution_count": 11,
   "id": "e4d79746-f21a-4487-8577-7896737991b3",
   "metadata": {},
   "outputs": [
    {
     "name": "stdout",
     "output_type": "stream",
     "text": [
      "Empty\n"
     ]
    }
   ],
   "source": [
    "# Check if the tuple is empty\n",
    "my_tup = ()\n",
    "if not my_tup:\n",
    "    print(\"Empty\")\n",
    "else:\n",
    "    print(\"Not Empty\")"
   ]
  },
  {
   "cell_type": "markdown",
   "id": "022ed343-83c9-4e3f-8ced-2c5c4f81bd30",
   "metadata": {},
   "source": [
    "Tuple Methods"
   ]
  },
  {
   "cell_type": "code",
   "execution_count": 17,
   "id": "9b8c4a1a-9a26-475b-b704-4247db54c135",
   "metadata": {},
   "outputs": [
    {
     "data": {
      "text/plain": [
       "(10, 2, 30, 'Hi', 99, -12, 10, 2, 2, 2)"
      ]
     },
     "execution_count": 17,
     "metadata": {},
     "output_type": "execute_result"
    }
   ],
   "source": [
    "newtup = (10,2,30,\"Hi\",99,-12,10,2,2,2)\n",
    "newtup"
   ]
  },
  {
   "cell_type": "code",
   "execution_count": 18,
   "id": "dee94ac0-7854-484b-9122-8ffd78c2b30a",
   "metadata": {},
   "outputs": [
    {
     "data": {
      "text/plain": [
       "4"
      ]
     },
     "execution_count": 18,
     "metadata": {},
     "output_type": "execute_result"
    }
   ],
   "source": [
    "newtup.count(2)"
   ]
  },
  {
   "cell_type": "code",
   "execution_count": 19,
   "id": "083e5381-b7e8-444d-8530-d6e6e918555b",
   "metadata": {},
   "outputs": [
    {
     "data": {
      "text/plain": [
       "1"
      ]
     },
     "execution_count": 19,
     "metadata": {},
     "output_type": "execute_result"
    }
   ],
   "source": [
    "newtup.index(2)"
   ]
  },
  {
   "cell_type": "code",
   "execution_count": 20,
   "id": "724ad9d1-99c1-4e04-94a3-6fa15924000a",
   "metadata": {},
   "outputs": [
    {
     "data": {
      "text/plain": [
       "10"
      ]
     },
     "execution_count": 20,
     "metadata": {},
     "output_type": "execute_result"
    }
   ],
   "source": [
    "len(newtup)"
   ]
  },
  {
   "cell_type": "code",
   "execution_count": 22,
   "id": "a71baa58-a72c-4049-be78-804db3adb79b",
   "metadata": {},
   "outputs": [
    {
     "name": "stdout",
     "output_type": "stream",
     "text": [
      "(10, 'hi', True)\n"
     ]
    }
   ],
   "source": [
    "# Tuple Packing\n",
    "data = 10,\"hi\",True  # same as data = (10,\"hi\",True)\n",
    "print(data)"
   ]
  },
  {
   "cell_type": "code",
   "execution_count": 23,
   "id": "54c679fa-a632-444c-aacf-d696ca6201a8",
   "metadata": {},
   "outputs": [
    {
     "name": "stdout",
     "output_type": "stream",
     "text": [
      "10\n",
      "hi\n",
      "True\n"
     ]
    }
   ],
   "source": [
    "# Tuple Unpacking\n",
    "num,msg,status = data\n",
    "print(num)\n",
    "print(msg)\n",
    "print(status)"
   ]
  },
  {
   "cell_type": "code",
   "execution_count": 26,
   "id": "4f3c6714-85ea-4c43-89ee-01257bbb841a",
   "metadata": {},
   "outputs": [
    {
     "data": {
      "text/plain": [
       "True"
      ]
     },
     "execution_count": 26,
     "metadata": {},
     "output_type": "execute_result"
    }
   ],
   "source": [
    "# Memebership Testing\n",
    "10 in newtup"
   ]
  },
  {
   "cell_type": "code",
   "execution_count": 30,
   "id": "b7e38725-d179-46a4-85aa-957b1b67e1da",
   "metadata": {},
   "outputs": [
    {
     "data": {
      "text/plain": [
       "(1, 2, 3, 4)"
      ]
     },
     "execution_count": 30,
     "metadata": {},
     "output_type": "execute_result"
    }
   ],
   "source": [
    "# Concatenation\n",
    "t1 = (1, 2)\n",
    "t2 = (3, 4)\n",
    "t3 = t1 + t2  # Output: (1, 2, 3, 4)\n",
    "t3"
   ]
  },
  {
   "cell_type": "code",
   "execution_count": 31,
   "id": "ec5723d9-6ae2-4a03-9b09-4f49f7f72806",
   "metadata": {},
   "outputs": [
    {
     "data": {
      "text/plain": [
       "(1, 2, 1, 2, 1, 2)"
      ]
     },
     "execution_count": 31,
     "metadata": {},
     "output_type": "execute_result"
    }
   ],
   "source": [
    "# Repeatation\n",
    "t1 = (1, 2)\n",
    "t1 * 3  # Output: (1, 2, 1, 2, 1, 2)"
   ]
  },
  {
   "cell_type": "code",
   "execution_count": 32,
   "id": "c4fffe2d-05ba-4bcd-9a0c-e786b38995be",
   "metadata": {},
   "outputs": [
    {
     "data": {
      "text/plain": [
       "[('Alice', 85), ('Bob', 90)]"
      ]
     },
     "execution_count": 32,
     "metadata": {},
     "output_type": "execute_result"
    }
   ],
   "source": [
    "#Zip\n",
    "names = ['Alice', 'Bob']\n",
    "scores = [85, 90]\n",
    "card = list(zip(names,scores))\n",
    "card #List of Tuples"
   ]
  },
  {
   "cell_type": "code",
   "execution_count": 35,
   "id": "86f8e501-8866-4a6b-b8fc-bbadae29cadf",
   "metadata": {},
   "outputs": [
    {
     "data": {
      "text/plain": [
       "(('Alice', 85), ('Bob', 90))"
      ]
     },
     "execution_count": 35,
     "metadata": {},
     "output_type": "execute_result"
    }
   ],
   "source": [
    "card_tup = tuple(zip(names,scores))\n",
    "card_tup #Nested Tuple"
   ]
  },
  {
   "cell_type": "markdown",
   "id": "4d4cabc7-f7eb-479b-b874-dc19acbc717e",
   "metadata": {},
   "source": [
    "Accessing Tuple Elements"
   ]
  },
  {
   "cell_type": "code",
   "execution_count": 36,
   "id": "bae87a6c-9d39-4251-b203-2052638d793d",
   "metadata": {},
   "outputs": [
    {
     "data": {
      "text/plain": [
       "10"
      ]
     },
     "execution_count": 36,
     "metadata": {},
     "output_type": "execute_result"
    }
   ],
   "source": [
    "tuple1 = (10,20,10,2,23,10)\n",
    "tuple1[2]"
   ]
  },
  {
   "cell_type": "code",
   "execution_count": 38,
   "id": "68065f0a-4f2c-4bf6-80dc-6aef0812bd0d",
   "metadata": {},
   "outputs": [
    {
     "data": {
      "text/plain": [
       "(10, 23, 2, 10, 20, 10)"
      ]
     },
     "execution_count": 38,
     "metadata": {},
     "output_type": "execute_result"
    }
   ],
   "source": [
    "tuple1[::-1]"
   ]
  }
 ],
 "metadata": {
  "kernelspec": {
   "display_name": "Python 3 (ipykernel)",
   "language": "python",
   "name": "python3"
  },
  "language_info": {
   "codemirror_mode": {
    "name": "ipython",
    "version": 3
   },
   "file_extension": ".py",
   "mimetype": "text/x-python",
   "name": "python",
   "nbconvert_exporter": "python",
   "pygments_lexer": "ipython3",
   "version": "3.12.7"
  }
 },
 "nbformat": 4,
 "nbformat_minor": 5
}
