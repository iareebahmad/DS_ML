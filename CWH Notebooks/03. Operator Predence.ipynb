{
 "cells": [
  {
   "cell_type": "code",
   "execution_count": 1,
   "id": "979454f2-1ca0-412c-9109-49ee9832eb0f",
   "metadata": {},
   "outputs": [
    {
     "name": "stdout",
     "output_type": "stream",
     "text": [
      "11\n"
     ]
    }
   ],
   "source": [
    "result = 3 + 4 * 2\n",
    "print(result)  # 11 -> Multiplication (*) has higher precedence than addition (+)"
   ]
  },
  {
   "cell_type": "code",
   "execution_count": 2,
   "id": "e7f1080e-31de-4d45-94d8-30ad8ea70ca6",
   "metadata": {},
   "outputs": [
    {
     "name": "stdout",
     "output_type": "stream",
     "text": [
      "14\n"
     ]
    }
   ],
   "source": [
    "result = (3 + 4) * 2\n",
    "print(result)  # 14 -> Parentheses alter precedence; addition happens first"
   ]
  },
  {
   "cell_type": "code",
   "execution_count": 3,
   "id": "2db48a10-0250-43db-b527-9a30b27552dc",
   "metadata": {},
   "outputs": [
    {
     "name": "stdout",
     "output_type": "stream",
     "text": [
      "1\n"
     ]
    }
   ],
   "source": [
    "result = 10 - 3 ** 2\n",
    "print(result)  # 1 -> Exponentiation (**) happens before subtraction (-)"
   ]
  },
  {
   "cell_type": "code",
   "execution_count": 4,
   "id": "a071f5d2-06ad-4e20-9fc7-ba26ef766ef9",
   "metadata": {},
   "outputs": [
    {
     "name": "stdout",
     "output_type": "stream",
     "text": [
      "50.0\n"
     ]
    }
   ],
   "source": [
    "result = 100 / 10 * 5\n",
    "print(result)  # 50.0 -> / and * have the same precedence, evaluated left to right"
   ]
  },
  {
   "cell_type": "code",
   "execution_count": 5,
   "id": "302f50c8-8635-4655-a113-f0ac2842953d",
   "metadata": {},
   "outputs": [
    {
     "name": "stdout",
     "output_type": "stream",
     "text": [
      "True\n"
     ]
    }
   ],
   "source": [
    "result = True or False and False\n",
    "print(result)  # True -> 'and' has higher precedence than 'or'"
   ]
  },
  {
   "cell_type": "code",
   "execution_count": 8,
   "id": "7d465d84-c241-43cf-ae21-efb40a68af24",
   "metadata": {},
   "outputs": [
    {
     "name": "stdout",
     "output_type": "stream",
     "text": [
      "81\n"
     ]
    }
   ],
   "source": [
    "result = 3**2**2\n",
    "print(result) # 81 -> 3**(2**2)"
   ]
  },
  {
   "cell_type": "markdown",
   "id": "b473fc4d-c40b-4591-907b-2d89eab9f8d7",
   "metadata": {},
   "source": [
    "*All operators have left to rigth precedence, but exponent has right to left precedence.*"
   ]
  }
 ],
 "metadata": {
  "kernelspec": {
   "display_name": "Python 3 (ipykernel)",
   "language": "python",
   "name": "python3"
  },
  "language_info": {
   "codemirror_mode": {
    "name": "ipython",
    "version": 3
   },
   "file_extension": ".py",
   "mimetype": "text/x-python",
   "name": "python",
   "nbconvert_exporter": "python",
   "pygments_lexer": "ipython3",
   "version": "3.12.7"
  }
 },
 "nbformat": 4,
 "nbformat_minor": 5
}
