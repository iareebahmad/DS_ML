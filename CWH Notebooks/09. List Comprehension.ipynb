{
 "cells": [
  {
   "cell_type": "markdown",
   "id": "320f5e87-1c8e-4705-b390-2658ee197d12",
   "metadata": {},
   "source": [
    "newlist = [expression for item in iterable if condition == True]"
   ]
  },
  {
   "cell_type": "code",
   "execution_count": 2,
   "id": "61103d8e-52ed-475c-a61a-f2ad08e356aa",
   "metadata": {},
   "outputs": [
    {
     "data": {
      "text/plain": [
       "['Python', 'Java', 'C++']"
      ]
     },
     "execution_count": 2,
     "metadata": {},
     "output_type": "execute_result"
    }
   ],
   "source": [
    "#1. Convert each word to uppercase\n",
    "words = [\"python\", \"java\", \"c++\"]\n",
    "ans = [x.title() for x in words]\n",
    "ans"
   ]
  },
  {
   "cell_type": "code",
   "execution_count": 3,
   "id": "69c6d149-967b-45b0-a305-49abb9705b60",
   "metadata": {},
   "outputs": [
    {
     "data": {
      "text/plain": [
       "[1, 4, 9, 16, 25, 36, 49, 64, 81, 100]"
      ]
     },
     "execution_count": 3,
     "metadata": {},
     "output_type": "execute_result"
    }
   ],
   "source": [
    "#2. Square of numbers from 1 to 10\n",
    "ans = [x**2 for x in range(1,11)]\n",
    "ans"
   ]
  },
  {
   "cell_type": "code",
   "execution_count": 4,
   "id": "39ccbc82-3eb7-4c26-9a3c-bb668d1c553b",
   "metadata": {},
   "outputs": [
    {
     "data": {
      "text/plain": [
       "[2, 4, 6, 8]"
      ]
     },
     "execution_count": 4,
     "metadata": {},
     "output_type": "execute_result"
    }
   ],
   "source": [
    "#3. Extract even numbers from a list\n",
    "nums = [1, 2, 3, 4, 5, 6, 7, 8]\n",
    "ans = [x for x in nums if x%2 == 0]\n",
    "ans"
   ]
  },
  {
   "cell_type": "code",
   "execution_count": 6,
   "id": "08a6ad8c-e2a2-4290-bed2-7d5e4b70c942",
   "metadata": {},
   "outputs": [
    {
     "data": {
      "text/plain": [
       "['Dhoni', 'Kohli', 'Rohit']"
      ]
     },
     "execution_count": 6,
     "metadata": {},
     "output_type": "execute_result"
    }
   ],
   "source": [
    "#4. Convert list of strings to title case\n",
    "names = [\"dhoni\", \"kohli\", \"rohit\"]\n",
    "ans = [x.capitalize() for x in names]\n",
    "ans"
   ]
  },
  {
   "cell_type": "code",
   "execution_count": 8,
   "id": "fc82522b-34f8-49a5-9fc9-f9085858c568",
   "metadata": {},
   "outputs": [
    {
     "data": {
      "text/plain": [
       "[-1, -3, -4]"
      ]
     },
     "execution_count": 8,
     "metadata": {},
     "output_type": "execute_result"
    }
   ],
   "source": [
    "#5. Filter out negative numbers\n",
    "data = [5, -1, 0, -3, 8, 9, -4]\n",
    "ans = [x for x in data if x<0]\n",
    "ans"
   ]
  },
  {
   "cell_type": "code",
   "execution_count": 10,
   "id": "e35d350f-5773-4cf7-b7f9-e5ff2f324034",
   "metadata": {},
   "outputs": [
    {
     "data": {
      "text/plain": [
       "[(1, 1), (2, 4), (3, 9), (4, 16)]"
      ]
     },
     "execution_count": 10,
     "metadata": {},
     "output_type": "execute_result"
    }
   ],
   "source": [
    "#6. Create a list of (number, square) pairs\n",
    "ans = [(x,x**2) for x in range(1,5)]\n",
    "ans"
   ]
  },
  {
   "cell_type": "code",
   "execution_count": 16,
   "id": "6e5c09a1-7c78-498b-b6bf-26347d912642",
   "metadata": {},
   "outputs": [
    {
     "data": {
      "text/plain": [
       "[1, 2, 3, 4, 5, 6]"
      ]
     },
     "execution_count": 16,
     "metadata": {},
     "output_type": "execute_result"
    }
   ],
   "source": [
    "#7. Flatten a 2D list\n",
    "matrix = [[1, 2], [3, 4], [5, 6]]\n",
    "ans = []\n",
    "for elem in matrix:\n",
    "    for item in elem:\n",
    "        ans.append(item)\n",
    "ans"
   ]
  },
  {
   "cell_type": "code",
   "execution_count": 18,
   "id": "e54704ff-e8f9-4a0b-b452-e6c68aa20c43",
   "metadata": {},
   "outputs": [
    {
     "data": {
      "text/plain": [
       "[1, 2, 3, 4, 5, 6]"
      ]
     },
     "execution_count": 18,
     "metadata": {},
     "output_type": "execute_result"
    }
   ],
   "source": [
    "ans1 = [x for item in matrix for x in item]\n",
    "ans1"
   ]
  },
  {
   "cell_type": "code",
   "execution_count": 20,
   "id": "baace1f3-e753-409f-954b-f9e5c16af13b",
   "metadata": {},
   "outputs": [
    {
     "data": {
      "text/plain": [
       "['a', 'i']"
      ]
     },
     "execution_count": 20,
     "metadata": {},
     "output_type": "execute_result"
    }
   ],
   "source": [
    "#8. Extract vowels from a string\n",
    "vowels = \"aeiou\"\n",
    "text = \"kashmir\"\n",
    "ans = [x for x in text if x in vowels]\n",
    "ans"
   ]
  },
  {
   "cell_type": "code",
   "execution_count": 22,
   "id": "9e25a39c-5cd8-4d96-95e4-d14d7d4720da",
   "metadata": {},
   "outputs": [
    {
     "data": {
      "text/plain": [
       "['data-science', 'machine-learning', 'deep-learning']"
      ]
     },
     "execution_count": 22,
     "metadata": {},
     "output_type": "execute_result"
    }
   ],
   "source": [
    "#9. Replace spaces with dashes in words using list comprehension\n",
    "phrases = [\"data science\", \"machine learning\", \"deep learning\"]\n",
    "ans = [x.replace(\" \",\"-\") for x in phrases]\n",
    "ans"
   ]
  },
  {
   "cell_type": "code",
   "execution_count": 33,
   "id": "10ae5558-c7b0-4067-a92c-becbe7d86138",
   "metadata": {},
   "outputs": [
    {
     "data": {
      "text/plain": [
       "[6, 2, 7]"
      ]
     },
     "execution_count": 33,
     "metadata": {},
     "output_type": "execute_result"
    }
   ],
   "source": [
    "#10. Find the length of each word in a sentence\n",
    "sentence = \"Python is awesome\"\n",
    "list1 = sentence.split(\" \")\n",
    "ans = [len(x) for x in list1]\n",
    "ans"
   ]
  }
 ],
 "metadata": {
  "kernelspec": {
   "display_name": "Python 3 (ipykernel)",
   "language": "python",
   "name": "python3"
  },
  "language_info": {
   "codemirror_mode": {
    "name": "ipython",
    "version": 3
   },
   "file_extension": ".py",
   "mimetype": "text/x-python",
   "name": "python",
   "nbconvert_exporter": "python",
   "pygments_lexer": "ipython3",
   "version": "3.12.7"
  }
 },
 "nbformat": 4,
 "nbformat_minor": 5
}
