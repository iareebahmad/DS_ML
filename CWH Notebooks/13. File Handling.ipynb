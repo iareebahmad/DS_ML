{
 "cells": [
  {
   "cell_type": "markdown",
   "id": "b5b0bb93-a055-45d4-aa7e-811bbf61c851",
   "metadata": {},
   "source": [
    "**Reading Files**"
   ]
  },
  {
   "cell_type": "code",
   "execution_count": 12,
   "id": "0fe646f8-44d0-45f9-9632-6691221f629f",
   "metadata": {},
   "outputs": [
    {
     "name": "stdout",
     "output_type": "stream",
     "text": [
      "Technology is rapidly transforming education by making learning more accessible, personalized, and engaging. \n",
      "Digital tools like online courses, interactive apps, and virtual classrooms enable students to learn anytime, anywhere, often at their own pace. \n",
      "Artificial intelligence and data analytics help tailor lessons to individual needs, while tools like virtual reality offer immersive experiences that enhance understanding. As a result, education is becoming more flexible and inclusive, bridging gaps for learners across different regions and abilities.\n",
      "\n"
     ]
    }
   ],
   "source": [
    "#1. .read() : Reads entire file at once\n",
    "file = open(\"data.txt\",\"r\")\n",
    "content = file.read()\n",
    "print(content)\n",
    "file.close()"
   ]
  },
  {
   "cell_type": "code",
   "execution_count": 13,
   "id": "fd64aef0-9426-48b9-a76d-e52f12f99eaf",
   "metadata": {},
   "outputs": [
    {
     "name": "stdout",
     "output_type": "stream",
     "text": [
      "Technology is rapidly transforming education by making learning more accessible, personalized, and engaging. \n",
      "\n"
     ]
    }
   ],
   "source": [
    "#2. .readline() : Reads the file line by line\n",
    "file1 = open(\"data.txt\",\"r\")\n",
    "content_line = file1.readline()\n",
    "print(content_line)\n",
    "file1.close()"
   ]
  },
  {
   "cell_type": "code",
   "execution_count": 14,
   "id": "7951450e-ed66-4f7d-b817-1fab67ae9a16",
   "metadata": {},
   "outputs": [
    {
     "name": "stdout",
     "output_type": "stream",
     "text": [
      "['Technology is rapidly transforming education by making learning more accessible, personalized, and engaging. \\n', 'Digital tools like online courses, interactive apps, and virtual classrooms enable students to learn anytime, anywhere, often at their own pace. \\n', 'Artificial intelligence and data analytics help tailor lessons to individual needs, while tools like virtual reality offer immersive experiences that enhance understanding. As a result, education is becoming more flexible and inclusive, bridging gaps for learners across different regions and abilities.\\n']\n"
     ]
    }
   ],
   "source": [
    "#3. .readlines() : Reads all lines into a list\n",
    "file = open(\"data.txt\",\"r\")\n",
    "line_list = file.readlines()\n",
    "print(line_list)\n",
    "file.close()"
   ]
  },
  {
   "cell_type": "markdown",
   "id": "2908f3eb-2422-4556-8f38-de3199bc4254",
   "metadata": {},
   "source": [
    "**Writing to Files**"
   ]
  },
  {
   "cell_type": "code",
   "execution_count": 20,
   "id": "56ef60e8-8559-4e84-af6e-2fbd663b6ce4",
   "metadata": {},
   "outputs": [
    {
     "name": "stdout",
     "output_type": "stream",
     "text": [
      "Bro is sick\n"
     ]
    }
   ],
   "source": [
    "#4. .write() : Overwrites the entire file\n",
    "file = open(\"data.txt\",\"w\")\n",
    "file.write(\"Bro is sick\")\n",
    "file1 = open(\"data.txt\",\"r\")\n",
    "data = file1.read()\n",
    "print(data)\n",
    "file.close()\n",
    "file1.close()"
   ]
  },
  {
   "cell_type": "code",
   "execution_count": 24,
   "id": "892b87c6-e788-4a65-ac52-45e17d1cf042",
   "metadata": {},
   "outputs": [
    {
     "name": "stdout",
     "output_type": "stream",
     "text": [
      "hello\n",
      "world is beautiful\n",
      "Haina?\n"
     ]
    }
   ],
   "source": [
    "#5. .writelines() : Write multiple lines, overwrites the existing\n",
    "line_list = [\"hello\\n\",\"world is beautiful\\n\",\"Haina?\"]\n",
    "file = open(\"data.txt\",\"w\")\n",
    "file.writelines(line_list)\n",
    "file1 = open(\"data.txt\",\"r\")\n",
    "data = file1.read()\n",
    "print(data)\n",
    "file.close()\n",
    "file1.close()"
   ]
  },
  {
   "cell_type": "markdown",
   "id": "99f36dbb-ef1b-4091-a377-01bf774bd929",
   "metadata": {},
   "source": [
    "**Appending to a File**"
   ]
  },
  {
   "cell_type": "code",
   "execution_count": 27,
   "id": "331ca5c2-6723-4691-8845-8909dc7f1156",
   "metadata": {},
   "outputs": [
    {
     "name": "stdout",
     "output_type": "stream",
     "text": [
      "hello\n",
      "world is beautiful\n",
      "Haina?\n"
     ]
    }
   ],
   "source": [
    "#Existing file\n",
    "file = open(\"data.txt\",\"r\")\n",
    "content = file.read()\n",
    "print(content)"
   ]
  },
  {
   "cell_type": "code",
   "execution_count": 28,
   "id": "d26f093d-5023-4177-98e3-346ecab62f6e",
   "metadata": {},
   "outputs": [],
   "source": [
    "# append : Add to file without deleting the exisitng data\n",
    "file = open(\"data.txt\",\"a\")\n",
    "file.write(\"SO fucking tired\")\n",
    "file.close()"
   ]
  },
  {
   "cell_type": "code",
   "execution_count": 29,
   "id": "ffd9f687-b9a0-44ad-ae27-c8a3dcb65f4c",
   "metadata": {},
   "outputs": [
    {
     "name": "stdout",
     "output_type": "stream",
     "text": [
      "hello\n",
      "world is beautiful\n",
      "Haina?SO fucking tired\n"
     ]
    }
   ],
   "source": [
    "file = open(\"data.txt\",\"r\")\n",
    "content = file.read()\n",
    "print(content)"
   ]
  },
  {
   "cell_type": "markdown",
   "id": "d1219174-e5a5-4dd0-bc06-6d2f652fafe0",
   "metadata": {},
   "source": [
    "**To avoid manually closing the file everytime use :  with**"
   ]
  },
  {
   "cell_type": "code",
   "execution_count": 30,
   "id": "71e05f3a-b1a6-4137-a0dd-8ef968a7f4ae",
   "metadata": {},
   "outputs": [
    {
     "name": "stdout",
     "output_type": "stream",
     "text": [
      "hello\n",
      "world is beautiful\n",
      "Haina?SO fucking tired\n"
     ]
    }
   ],
   "source": [
    "with open(\"data.txt\",\"r\") as file:\n",
    "    content = file.read()\n",
    "    print(content)"
   ]
  },
  {
   "cell_type": "markdown",
   "id": "d5823178-c751-44a8-a1ce-0cbdab8cb84e",
   "metadata": {},
   "source": [
    "**Checking whether a file exit or deleting a file**\n",
    "- Both require OS module"
   ]
  },
  {
   "cell_type": "code",
   "execution_count": 32,
   "id": "2626e9cc-d523-4628-9c07-85c71d784372",
   "metadata": {},
   "outputs": [
    {
     "name": "stdout",
     "output_type": "stream",
     "text": [
      "File Exists\n"
     ]
    }
   ],
   "source": [
    "# If a file exists\n",
    "import os\n",
    "if os.path.exists(\"data.txt\"):\n",
    "    print(\"File Exists\")\n",
    "else:\n",
    "    print(\"File doesn't exist\")"
   ]
  },
  {
   "cell_type": "code",
   "execution_count": 33,
   "id": "039741d8-3c6c-423c-9518-bcc327280663",
   "metadata": {},
   "outputs": [
    {
     "name": "stdout",
     "output_type": "stream",
     "text": [
      "File doesn't exist\n"
     ]
    }
   ],
   "source": [
    "import os\n",
    "if os.path.exists(\"more_data.txt\"):\n",
    "    print(\"File Exists\")\n",
    "else:\n",
    "    print(\"File doesn't exist\")"
   ]
  },
  {
   "cell_type": "code",
   "execution_count": 34,
   "id": "7e15a646-2842-4dbd-b506-a7668df961d2",
   "metadata": {},
   "outputs": [
    {
     "name": "stdout",
     "output_type": "stream",
     "text": [
      "No File Found\n"
     ]
    }
   ],
   "source": [
    "# Deletig a file\n",
    "import os\n",
    "if os.path.exists(\"more_data.txt\"):\n",
    "    os.remove(\"more_data.txt\")\n",
    "    print(\"File Deleted\")\n",
    "else:\n",
    "    print(\"No File Found\")"
   ]
  },
  {
   "cell_type": "markdown",
   "id": "6020ed27-2500-4bee-b341-d0e5ca74474a",
   "metadata": {},
   "source": [
    " **Reading and Writing Binary Files**\n"
   ]
  },
  {
   "cell_type": "code",
   "execution_count": 38,
   "id": "ccaa28fc-cceb-4d7e-8c5b-6ba0bc7245a7",
   "metadata": {},
   "outputs": [],
   "source": [
    "#Read\n",
    "#with open(\"t1.png\",\"rb\") as file:\n",
    "     #data = file.read()\n",
    "    #print(data)"
   ]
  },
  {
   "cell_type": "code",
   "execution_count": 39,
   "id": "c4a2ffc2-52db-41c7-b6cf-a8716fcd7b0a",
   "metadata": {},
   "outputs": [],
   "source": [
    "#Write\n",
    "#with open(\"t1.png\",\"wb\") as file:\n",
    "    #file.write(\"\")"
   ]
  }
 ],
 "metadata": {
  "kernelspec": {
   "display_name": "Python 3 (ipykernel)",
   "language": "python",
   "name": "python3"
  },
  "language_info": {
   "codemirror_mode": {
    "name": "ipython",
    "version": 3
   },
   "file_extension": ".py",
   "mimetype": "text/x-python",
   "name": "python",
   "nbconvert_exporter": "python",
   "pygments_lexer": "ipython3",
   "version": "3.12.7"
  }
 },
 "nbformat": 4,
 "nbformat_minor": 5
}
